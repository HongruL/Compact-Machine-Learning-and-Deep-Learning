{
 "cells": [
  {
   "cell_type": "markdown",
   "id": "800b93be",
   "metadata": {},
   "source": [
    "# Regression with Keras Wide & Deep neural network\n",
    "In this project we will build an regressor using the Wide & Deep neural network functional API of Keras on california housing dataset. For the regression with a sequential API, see project \"A Simple Regression MLP with Keras Sequential API\""
   ]
  },
  {
   "cell_type": "code",
   "execution_count": 1,
   "id": "f5c0162d",
   "metadata": {},
   "outputs": [],
   "source": [
    "import tensorflow as tf\n",
    "from tensorflow.keras import layers\n",
    "from sklearn.datasets import fetch_california_housing\n",
    "from sklearn.model_selection import train_test_split"
   ]
  },
  {
   "cell_type": "code",
   "execution_count": 2,
   "id": "0301aea8",
   "metadata": {},
   "outputs": [],
   "source": [
    "housing = fetch_california_housing()\n",
    "\n",
    "X_train_full, X_test, y_train_full, y_test = train_test_split(\n",
    "    housing.data, housing.target, random_state=369)\n",
    "X_train, X_valid, y_train, y_valid = train_test_split(\n",
    "    X_train_full, y_train_full, random_state=369)"
   ]
  },
  {
   "cell_type": "code",
   "execution_count": 3,
   "id": "179f505a",
   "metadata": {},
   "outputs": [],
   "source": [
    "tf.random.set_seed(369)"
   ]
  },
  {
   "cell_type": "code",
   "execution_count": 4,
   "id": "5dee7671",
   "metadata": {},
   "outputs": [
    {
     "name": "stdout",
     "output_type": "stream",
     "text": [
      "Metal device set to: Apple M1\n"
     ]
    },
    {
     "name": "stderr",
     "output_type": "stream",
     "text": [
      "2023-01-07 09:09:47.179363: I tensorflow/core/common_runtime/pluggable_device/pluggable_device_factory.cc:305] Could not identify NUMA node of platform GPU ID 0, defaulting to 0. Your kernel may not have been built with NUMA support.\n",
      "2023-01-07 09:09:47.179660: I tensorflow/core/common_runtime/pluggable_device/pluggable_device_factory.cc:271] Created TensorFlow device (/job:localhost/replica:0/task:0/device:GPU:0 with 0 MB memory) -> physical PluggableDevice (device: 0, name: METAL, pci bus id: <undefined>)\n"
     ]
    },
    {
     "name": "stdout",
     "output_type": "stream",
     "text": [
      "Model: \"model\"\n",
      "__________________________________________________________________________________________________\n",
      " Layer (type)                   Output Shape         Param #     Connected to                     \n",
      "==================================================================================================\n",
      " input_1 (InputLayer)           [(None, 8)]          0           []                               \n",
      "                                                                                                  \n",
      " normalization (Normalization)  (None, 8)            17          ['input_1[0][0]']                \n",
      "                                                                                                  \n",
      " dense (Dense)                  (None, 30)           270         ['normalization[0][0]']          \n",
      "                                                                                                  \n",
      " dense_1 (Dense)                (None, 30)           930         ['dense[0][0]']                  \n",
      "                                                                                                  \n",
      " concatenate (Concatenate)      (None, 38)           0           ['normalization[0][0]',          \n",
      "                                                                  'dense_1[0][0]']                \n",
      "                                                                                                  \n",
      " dense_2 (Dense)                (None, 1)            39          ['concatenate[0][0]']            \n",
      "                                                                                                  \n",
      "==================================================================================================\n",
      "Total params: 1,256\n",
      "Trainable params: 1,239\n",
      "Non-trainable params: 17\n",
      "__________________________________________________________________________________________________\n"
     ]
    }
   ],
   "source": [
    "#create all the layers we need\n",
    "normalization_layer = layers.Normalization()\n",
    "hidden_layer1 = layers.Dense(30, activation='relu')\n",
    "hidden_layer2 = layers.Dense(30, activation='relu')\n",
    "concat_layer = layers.Concatenate()\n",
    "output_layer = layers.Dense(1)\n",
    "\n",
    "#construct model by using the layers as functions\n",
    "input_ = layers.Input(shape=X_train.shape[1:])\n",
    "normalized = normalization_layer(input_)\n",
    "hidden1 = hidden_layer1(normalized)\n",
    "hidden2 = hidden_layer2(hidden1)\n",
    "concat = concat_layer([normalized, hidden2]) #concatenate the input and the second hidden layer’s output\n",
    "output = output_layer(concat)\n",
    "\n",
    "#specifying which inputs and outputs to use\n",
    "model = tf.keras.Model(inputs=[input_], outputs=[output])\n",
    "model.summary()"
   ]
  },
  {
   "cell_type": "code",
   "execution_count": 5,
   "id": "d698bf79",
   "metadata": {
    "scrolled": true
   },
   "outputs": [
    {
     "name": "stderr",
     "output_type": "stream",
     "text": [
      "2023-01-07 09:09:47.586198: W tensorflow/core/platform/profile_utils/cpu_utils.cc:128] Failed to get CPU frequency: 0 Hz\n",
      "2023-01-07 09:09:47.629286: I tensorflow/core/grappler/optimizers/custom_graph_optimizer_registry.cc:113] Plugin optimizer for device_type GPU is enabled.\n"
     ]
    },
    {
     "name": "stdout",
     "output_type": "stream",
     "text": [
      "Epoch 1/20\n"
     ]
    },
    {
     "name": "stderr",
     "output_type": "stream",
     "text": [
      "2023-01-07 09:09:48.705386: I tensorflow/core/grappler/optimizers/custom_graph_optimizer_registry.cc:113] Plugin optimizer for device_type GPU is enabled.\n"
     ]
    },
    {
     "name": "stdout",
     "output_type": "stream",
     "text": [
      "363/363 [==============================] - ETA: 0s - loss: 1.3553 - root_mean_squared_error: 1.1642"
     ]
    },
    {
     "name": "stderr",
     "output_type": "stream",
     "text": [
      "2023-01-07 09:09:51.721254: I tensorflow/core/grappler/optimizers/custom_graph_optimizer_registry.cc:113] Plugin optimizer for device_type GPU is enabled.\n"
     ]
    },
    {
     "name": "stdout",
     "output_type": "stream",
     "text": [
      "363/363 [==============================] - 4s 7ms/step - loss: 1.3553 - root_mean_squared_error: 1.1642 - val_loss: 0.5482 - val_root_mean_squared_error: 0.7404\n",
      "Epoch 2/20\n",
      "363/363 [==============================] - 2s 6ms/step - loss: 0.4996 - root_mean_squared_error: 0.7068 - val_loss: 0.4514 - val_root_mean_squared_error: 0.6719\n",
      "Epoch 3/20\n",
      "363/363 [==============================] - 2s 6ms/step - loss: 0.4240 - root_mean_squared_error: 0.6512 - val_loss: 0.4124 - val_root_mean_squared_error: 0.6422\n",
      "Epoch 4/20\n",
      "363/363 [==============================] - 2s 6ms/step - loss: 0.3938 - root_mean_squared_error: 0.6276 - val_loss: 0.3891 - val_root_mean_squared_error: 0.6238\n",
      "Epoch 5/20\n",
      "363/363 [==============================] - 2s 6ms/step - loss: 0.3812 - root_mean_squared_error: 0.6174 - val_loss: 0.3788 - val_root_mean_squared_error: 0.6155\n",
      "Epoch 6/20\n",
      "363/363 [==============================] - 2s 6ms/step - loss: 0.3819 - root_mean_squared_error: 0.6180 - val_loss: 0.3751 - val_root_mean_squared_error: 0.6125\n",
      "Epoch 7/20\n",
      "363/363 [==============================] - 2s 6ms/step - loss: 0.3640 - root_mean_squared_error: 0.6033 - val_loss: 0.3705 - val_root_mean_squared_error: 0.6087\n",
      "Epoch 8/20\n",
      "363/363 [==============================] - 2s 6ms/step - loss: 0.3602 - root_mean_squared_error: 0.6002 - val_loss: 0.3639 - val_root_mean_squared_error: 0.6033\n",
      "Epoch 9/20\n",
      "363/363 [==============================] - 2s 6ms/step - loss: 0.3542 - root_mean_squared_error: 0.5951 - val_loss: 0.3563 - val_root_mean_squared_error: 0.5969\n",
      "Epoch 10/20\n",
      "363/363 [==============================] - 2s 6ms/step - loss: 0.3816 - root_mean_squared_error: 0.6178 - val_loss: 0.3644 - val_root_mean_squared_error: 0.6037\n",
      "Epoch 11/20\n",
      "363/363 [==============================] - 2s 6ms/step - loss: 0.3577 - root_mean_squared_error: 0.5981 - val_loss: 0.3661 - val_root_mean_squared_error: 0.6051\n",
      "Epoch 12/20\n",
      "363/363 [==============================] - 3s 7ms/step - loss: 0.3431 - root_mean_squared_error: 0.5858 - val_loss: 0.3510 - val_root_mean_squared_error: 0.5924\n",
      "Epoch 13/20\n",
      "363/363 [==============================] - 2s 6ms/step - loss: 0.3385 - root_mean_squared_error: 0.5818 - val_loss: 0.3404 - val_root_mean_squared_error: 0.5835\n",
      "Epoch 14/20\n",
      "363/363 [==============================] - 3s 7ms/step - loss: 0.3367 - root_mean_squared_error: 0.5803 - val_loss: 0.3461 - val_root_mean_squared_error: 0.5883\n",
      "Epoch 15/20\n",
      "363/363 [==============================] - 2s 7ms/step - loss: 0.3312 - root_mean_squared_error: 0.5755 - val_loss: 0.3408 - val_root_mean_squared_error: 0.5838\n",
      "Epoch 16/20\n",
      "363/363 [==============================] - 2s 6ms/step - loss: 0.3292 - root_mean_squared_error: 0.5737 - val_loss: 0.3385 - val_root_mean_squared_error: 0.5818\n",
      "Epoch 17/20\n",
      "363/363 [==============================] - 2s 6ms/step - loss: 0.3331 - root_mean_squared_error: 0.5771 - val_loss: 0.3457 - val_root_mean_squared_error: 0.5880\n",
      "Epoch 18/20\n",
      "363/363 [==============================] - 2s 6ms/step - loss: 0.3262 - root_mean_squared_error: 0.5711 - val_loss: 0.3346 - val_root_mean_squared_error: 0.5784\n",
      "Epoch 19/20\n",
      "363/363 [==============================] - 2s 6ms/step - loss: 0.3214 - root_mean_squared_error: 0.5669 - val_loss: 0.3229 - val_root_mean_squared_error: 0.5683\n",
      "Epoch 20/20\n",
      "363/363 [==============================] - 2s 6ms/step - loss: 0.3201 - root_mean_squared_error: 0.5658 - val_loss: 0.3353 - val_root_mean_squared_error: 0.5791\n",
      "162/162 [==============================] - 1s 4ms/step - loss: 0.3229 - root_mean_squared_error: 0.5682\n"
     ]
    }
   ],
   "source": [
    "optimizer = tf.keras.optimizers.Adam(learning_rate=1e-3)\n",
    "model.compile(loss='mse', optimizer=optimizer, metrics=['RootMeanSquaredError'])\n",
    "normalization_layer.adapt(X_train)\n",
    "history = model.fit(X_train, y_train, epochs=20, validation_data=[X_valid, y_valid])\n",
    "\n",
    "mse_test, rmse_test = model.evaluate(X_test, y_test)"
   ]
  },
  {
   "cell_type": "code",
   "execution_count": 6,
   "id": "d4c9ca0c",
   "metadata": {},
   "outputs": [
    {
     "name": "stdout",
     "output_type": "stream",
     "text": [
      "0.3228816092014313 0.5682267546653748\n"
     ]
    }
   ],
   "source": [
    "print(mse_test, rmse_test)"
   ]
  },
  {
   "cell_type": "markdown",
   "id": "478be2cd",
   "metadata": {},
   "source": [
    "Next, we send 5 features through the wide path (features 0 to 4), and 6 through the deep path (features 2 to 7)."
   ]
  },
  {
   "cell_type": "code",
   "execution_count": 7,
   "id": "c94a9002",
   "metadata": {},
   "outputs": [
    {
     "name": "stdout",
     "output_type": "stream",
     "text": [
      "Model: \"model_1\"\n",
      "__________________________________________________________________________________________________\n",
      " Layer (type)                   Output Shape         Param #     Connected to                     \n",
      "==================================================================================================\n",
      " input_3 (InputLayer)           [(None, 6)]          0           []                               \n",
      "                                                                                                  \n",
      " normalization_2 (Normalization  (None, 6)           13          ['input_3[0][0]']                \n",
      " )                                                                                                \n",
      "                                                                                                  \n",
      " input_2 (InputLayer)           [(None, 5)]          0           []                               \n",
      "                                                                                                  \n",
      " dense_3 (Dense)                (None, 30)           210         ['normalization_2[0][0]']        \n",
      "                                                                                                  \n",
      " normalization_1 (Normalization  (None, 5)           11          ['input_2[0][0]']                \n",
      " )                                                                                                \n",
      "                                                                                                  \n",
      " dense_4 (Dense)                (None, 30)           930         ['dense_3[0][0]']                \n",
      "                                                                                                  \n",
      " concatenate_1 (Concatenate)    (None, 35)           0           ['normalization_1[0][0]',        \n",
      "                                                                  'dense_4[0][0]']                \n",
      "                                                                                                  \n",
      " dense_5 (Dense)                (None, 1)            36          ['concatenate_1[0][0]']          \n",
      "                                                                                                  \n",
      "==================================================================================================\n",
      "Total params: 1,200\n",
      "Trainable params: 1,176\n",
      "Non-trainable params: 24\n",
      "__________________________________________________________________________________________________\n"
     ]
    }
   ],
   "source": [
    "#two input layers\n",
    "input_wide = layers.Input(shape=[5])\n",
    "input_deep = layers.Input(shape=[6])\n",
    "norm_layer_wide = layers.Normalization()\n",
    "norm_layer_deep = layers.Normalization()\n",
    "\n",
    "norm_wide = norm_layer_wide(input_wide)\n",
    "norm_deep = norm_layer_deep(input_deep)\n",
    "\n",
    "hidden1 = layers.Dense(30, activation=\"relu\")(norm_deep)\n",
    "hidden2 = layers.Dense(30, activation=\"relu\")(hidden1)\n",
    "concat = layers.Concatenate()([norm_wide, hidden2])\n",
    "output = layers.Dense(1)(concat)\n",
    "\n",
    "model = tf.keras.Model(inputs=[input_wide, input_deep], outputs=[output])\n",
    "model.summary()"
   ]
  },
  {
   "cell_type": "code",
   "execution_count": 8,
   "id": "90410754",
   "metadata": {
    "scrolled": true
   },
   "outputs": [
    {
     "name": "stderr",
     "output_type": "stream",
     "text": [
      "2023-01-07 09:10:36.854319: I tensorflow/core/grappler/optimizers/custom_graph_optimizer_registry.cc:113] Plugin optimizer for device_type GPU is enabled.\n",
      "2023-01-07 09:10:37.541578: I tensorflow/core/grappler/optimizers/custom_graph_optimizer_registry.cc:113] Plugin optimizer for device_type GPU is enabled.\n"
     ]
    },
    {
     "name": "stdout",
     "output_type": "stream",
     "text": [
      "Epoch 1/20\n",
      "  1/363 [..............................] - ETA: 1:46 - loss: 8.3002 - root_mean_squared_error: 2.8810"
     ]
    },
    {
     "name": "stderr",
     "output_type": "stream",
     "text": [
      "2023-01-07 09:10:38.330132: I tensorflow/core/grappler/optimizers/custom_graph_optimizer_registry.cc:113] Plugin optimizer for device_type GPU is enabled.\n"
     ]
    },
    {
     "name": "stdout",
     "output_type": "stream",
     "text": [
      "363/363 [==============================] - ETA: 0s - loss: 1.7587 - root_mean_squared_error: 1.3262"
     ]
    },
    {
     "name": "stderr",
     "output_type": "stream",
     "text": [
      "2023-01-07 09:10:40.633115: I tensorflow/core/grappler/optimizers/custom_graph_optimizer_registry.cc:113] Plugin optimizer for device_type GPU is enabled.\n"
     ]
    },
    {
     "name": "stdout",
     "output_type": "stream",
     "text": [
      "363/363 [==============================] - 3s 7ms/step - loss: 1.7587 - root_mean_squared_error: 1.3262 - val_loss: 0.7607 - val_root_mean_squared_error: 0.8722\n",
      "Epoch 2/20\n",
      "363/363 [==============================] - 2s 6ms/step - loss: 0.6365 - root_mean_squared_error: 0.7978 - val_loss: 0.5672 - val_root_mean_squared_error: 0.7532\n",
      "Epoch 3/20\n",
      "363/363 [==============================] - 2s 7ms/step - loss: 0.5167 - root_mean_squared_error: 0.7188 - val_loss: 0.4812 - val_root_mean_squared_error: 0.6937\n",
      "Epoch 4/20\n",
      "363/363 [==============================] - 2s 7ms/step - loss: 0.4560 - root_mean_squared_error: 0.6753 - val_loss: 0.4425 - val_root_mean_squared_error: 0.6652\n",
      "Epoch 5/20\n",
      "363/363 [==============================] - 2s 7ms/step - loss: 0.4276 - root_mean_squared_error: 0.6539 - val_loss: 0.4190 - val_root_mean_squared_error: 0.6473\n",
      "Epoch 6/20\n",
      "363/363 [==============================] - 2s 6ms/step - loss: 0.4032 - root_mean_squared_error: 0.6350 - val_loss: 0.4010 - val_root_mean_squared_error: 0.6332\n",
      "Epoch 7/20\n",
      "363/363 [==============================] - 2s 6ms/step - loss: 0.3880 - root_mean_squared_error: 0.6229 - val_loss: 0.4012 - val_root_mean_squared_error: 0.6334\n",
      "Epoch 8/20\n",
      "363/363 [==============================] - 2s 6ms/step - loss: 0.3863 - root_mean_squared_error: 0.6215 - val_loss: 0.3863 - val_root_mean_squared_error: 0.6216\n",
      "Epoch 9/20\n",
      "363/363 [==============================] - 2s 6ms/step - loss: 0.3699 - root_mean_squared_error: 0.6082 - val_loss: 0.3761 - val_root_mean_squared_error: 0.6133\n",
      "Epoch 10/20\n",
      "363/363 [==============================] - 2s 6ms/step - loss: 0.3806 - root_mean_squared_error: 0.6169 - val_loss: 0.3812 - val_root_mean_squared_error: 0.6174\n",
      "Epoch 11/20\n",
      "363/363 [==============================] - 2s 6ms/step - loss: 0.3603 - root_mean_squared_error: 0.6002 - val_loss: 0.3676 - val_root_mean_squared_error: 0.6063\n",
      "Epoch 12/20\n",
      "363/363 [==============================] - 2s 6ms/step - loss: 0.3493 - root_mean_squared_error: 0.5910 - val_loss: 0.3606 - val_root_mean_squared_error: 0.6005\n",
      "Epoch 13/20\n",
      "363/363 [==============================] - 3s 7ms/step - loss: 0.3455 - root_mean_squared_error: 0.5878 - val_loss: 0.3539 - val_root_mean_squared_error: 0.5949\n",
      "Epoch 14/20\n",
      "363/363 [==============================] - 2s 6ms/step - loss: 0.3440 - root_mean_squared_error: 0.5865 - val_loss: 0.3511 - val_root_mean_squared_error: 0.5925\n",
      "Epoch 15/20\n",
      "363/363 [==============================] - 2s 6ms/step - loss: 0.3394 - root_mean_squared_error: 0.5826 - val_loss: 0.3592 - val_root_mean_squared_error: 0.5993\n",
      "Epoch 16/20\n",
      "363/363 [==============================] - 2s 6ms/step - loss: 0.3361 - root_mean_squared_error: 0.5797 - val_loss: 0.3485 - val_root_mean_squared_error: 0.5904\n",
      "Epoch 17/20\n",
      "363/363 [==============================] - 2s 6ms/step - loss: 0.3373 - root_mean_squared_error: 0.5807 - val_loss: 0.3504 - val_root_mean_squared_error: 0.5919\n",
      "Epoch 18/20\n",
      "363/363 [==============================] - 2s 6ms/step - loss: 0.3373 - root_mean_squared_error: 0.5808 - val_loss: 0.3578 - val_root_mean_squared_error: 0.5982\n",
      "Epoch 19/20\n",
      "363/363 [==============================] - 2s 7ms/step - loss: 0.3305 - root_mean_squared_error: 0.5749 - val_loss: 0.3479 - val_root_mean_squared_error: 0.5899\n",
      "Epoch 20/20\n",
      "363/363 [==============================] - 2s 6ms/step - loss: 0.3334 - root_mean_squared_error: 0.5774 - val_loss: 0.3478 - val_root_mean_squared_error: 0.5898\n",
      "162/162 [==============================] - 1s 4ms/step - loss: 0.3261 - root_mean_squared_error: 0.5710\n"
     ]
    }
   ],
   "source": [
    "optimizer = tf.keras.optimizers.Adam(learning_rate=1e-3)\n",
    "model.compile(loss=\"mse\", optimizer=optimizer, metrics=[\"RootMeanSquaredError\"])\n",
    "\n",
    "X_train_wide, X_train_deep = X_train[:, :5], X_train[:, 2:]\n",
    "X_valid_wide, X_valid_deep = X_valid[:, :5], X_valid[:, 2:]\n",
    "X_test_wide, X_test_deep = X_test[:, :5], X_test[:, 2:]\n",
    "\n",
    "norm_layer_wide.adapt(X_train_wide)\n",
    "norm_layer_deep.adapt(X_train_deep)\n",
    "\n",
    "history = model.fit((X_train_wide, X_train_deep), y_train, epochs=20, \n",
    "                    validation_data=((X_valid_wide, X_valid_deep), y_valid))\n",
    "\n",
    "mse_test, rmse_test = model.evaluate((X_test_wide, X_test_deep), y_test)"
   ]
  },
  {
   "cell_type": "code",
   "execution_count": 9,
   "id": "c12b6b20",
   "metadata": {},
   "outputs": [
    {
     "name": "stdout",
     "output_type": "stream",
     "text": [
      "0.3260728120803833 0.5710278749465942\n"
     ]
    }
   ],
   "source": [
    "print(mse_test, rmse_test)"
   ]
  },
  {
   "cell_type": "markdown",
   "id": "2b03b612",
   "metadata": {},
   "source": [
    "Let's build a model with 2 inputs and 2 outputs layers:"
   ]
  },
  {
   "cell_type": "code",
   "execution_count": 10,
   "id": "62108de9",
   "metadata": {},
   "outputs": [],
   "source": [
    "tf.keras.backend.clear_session()\n",
    "tf.random.set_seed(369)"
   ]
  },
  {
   "cell_type": "code",
   "execution_count": 11,
   "id": "1d28c06b",
   "metadata": {},
   "outputs": [],
   "source": [
    "input_wide = layers.Input(shape=[5])\n",
    "input_deep = layers.Input(shape=[6])\n",
    "norm_layer_wide = layers.Normalization()\n",
    "norm_layer_deep = layers.Normalization()\n",
    "norm_wide = norm_layer_wide(input_wide)\n",
    "norm_deep = norm_layer_deep(input_deep)\n",
    "hidden1 = layers.Dense(30, activation='relu')(norm_deep)\n",
    "hidden2 = layers.Dense(30, activation='relu')(hidden1)\n",
    "concat = layers.concatenate([norm_wide, hidden2])\n",
    "output = layers.Dense(1)(concat)\n",
    "aux_output = layers.Dense(1)(hidden2)\n",
    "\n",
    "model = tf.keras.Model(inputs=[input_wide, input_deep], outputs=[output, aux_output])"
   ]
  },
  {
   "cell_type": "code",
   "execution_count": 12,
   "id": "ebf9e31c",
   "metadata": {},
   "outputs": [],
   "source": [
    "optimizer = tf.keras.optimizers.Adam(learning_rate=1e-3)\n",
    "model.compile(loss=('mse', 'mse'), loss_weights=(0.9, 0.1), optimizer=optimizer, metrics=['RootMeanSquaredError'])"
   ]
  },
  {
   "cell_type": "code",
   "execution_count": 13,
   "id": "aa2910bf",
   "metadata": {},
   "outputs": [],
   "source": [
    "X_train_wide, X_train_deep = X_train[:, :5], X_train[:, 2:]\n",
    "X_valid_wide, X_valid_deep = X_valid[:, :5], X_valid[:, 2:]\n",
    "X_test_wide, X_test_deep = X_test[:, :5], X_test[:, 2:]"
   ]
  },
  {
   "cell_type": "code",
   "execution_count": 14,
   "id": "03458787",
   "metadata": {
    "scrolled": true
   },
   "outputs": [
    {
     "name": "stderr",
     "output_type": "stream",
     "text": [
      "2023-01-07 09:11:26.601006: I tensorflow/core/grappler/optimizers/custom_graph_optimizer_registry.cc:113] Plugin optimizer for device_type GPU is enabled.\n",
      "2023-01-07 09:11:27.277895: I tensorflow/core/grappler/optimizers/custom_graph_optimizer_registry.cc:113] Plugin optimizer for device_type GPU is enabled.\n"
     ]
    },
    {
     "name": "stdout",
     "output_type": "stream",
     "text": [
      "Epoch 1/20\n",
      "  1/363 [..............................] - ETA: 2:06 - loss: 6.6686 - dense_2_loss: 6.6612 - dense_3_loss: 6.7347 - dense_2_root_mean_squared_error: 2.5809 - dense_3_root_mean_squared_error: 2.5951"
     ]
    },
    {
     "name": "stderr",
     "output_type": "stream",
     "text": [
      "2023-01-07 09:11:28.156742: I tensorflow/core/grappler/optimizers/custom_graph_optimizer_registry.cc:113] Plugin optimizer for device_type GPU is enabled.\n"
     ]
    },
    {
     "name": "stdout",
     "output_type": "stream",
     "text": [
      "363/363 [==============================] - ETA: 0s - loss: 1.4539 - dense_2_loss: 1.3719 - dense_3_loss: 2.1918 - dense_2_root_mean_squared_error: 1.1713 - dense_3_root_mean_squared_error: 1.4805"
     ]
    },
    {
     "name": "stderr",
     "output_type": "stream",
     "text": [
      "2023-01-07 09:11:31.391305: I tensorflow/core/grappler/optimizers/custom_graph_optimizer_registry.cc:113] Plugin optimizer for device_type GPU is enabled.\n"
     ]
    },
    {
     "name": "stdout",
     "output_type": "stream",
     "text": [
      "363/363 [==============================] - 4s 10ms/step - loss: 1.4539 - dense_2_loss: 1.3719 - dense_3_loss: 2.1918 - dense_2_root_mean_squared_error: 1.1713 - dense_3_root_mean_squared_error: 1.4805 - val_loss: 0.7240 - val_dense_2_loss: 0.6797 - val_dense_3_loss: 1.1228 - val_dense_2_root_mean_squared_error: 0.8244 - val_dense_3_root_mean_squared_error: 1.0596\n",
      "Epoch 2/20\n",
      "363/363 [==============================] - 3s 10ms/step - loss: 0.6107 - dense_2_loss: 0.5786 - dense_3_loss: 0.9000 - dense_2_root_mean_squared_error: 0.7606 - dense_3_root_mean_squared_error: 0.9487 - val_loss: 0.5615 - val_dense_2_loss: 0.5408 - val_dense_3_loss: 0.7477 - val_dense_2_root_mean_squared_error: 0.7354 - val_dense_3_root_mean_squared_error: 0.8647\n",
      "Epoch 3/20\n",
      "363/363 [==============================] - 4s 10ms/step - loss: 0.4901 - dense_2_loss: 0.4700 - dense_3_loss: 0.6716 - dense_2_root_mean_squared_error: 0.6855 - dense_3_root_mean_squared_error: 0.8195 - val_loss: 0.4590 - val_dense_2_loss: 0.4417 - val_dense_3_loss: 0.6143 - val_dense_2_root_mean_squared_error: 0.6646 - val_dense_3_root_mean_squared_error: 0.7837\n",
      "Epoch 4/20\n",
      "363/363 [==============================] - 4s 11ms/step - loss: 0.4368 - dense_2_loss: 0.4208 - dense_3_loss: 0.5808 - dense_2_root_mean_squared_error: 0.6487 - dense_3_root_mean_squared_error: 0.7621 - val_loss: 0.4238 - val_dense_2_loss: 0.4091 - val_dense_3_loss: 0.5562 - val_dense_2_root_mean_squared_error: 0.6396 - val_dense_3_root_mean_squared_error: 0.7458\n",
      "Epoch 5/20\n",
      "363/363 [==============================] - 4s 10ms/step - loss: 0.4063 - dense_2_loss: 0.3927 - dense_3_loss: 0.5286 - dense_2_root_mean_squared_error: 0.6266 - dense_3_root_mean_squared_error: 0.7271 - val_loss: 0.4044 - val_dense_2_loss: 0.3922 - val_dense_3_loss: 0.5142 - val_dense_2_root_mean_squared_error: 0.6262 - val_dense_3_root_mean_squared_error: 0.7171\n",
      "Epoch 6/20\n",
      "363/363 [==============================] - 4s 11ms/step - loss: 0.3894 - dense_2_loss: 0.3781 - dense_3_loss: 0.4918 - dense_2_root_mean_squared_error: 0.6149 - dense_3_root_mean_squared_error: 0.7013 - val_loss: 0.3960 - val_dense_2_loss: 0.3867 - val_dense_3_loss: 0.4794 - val_dense_2_root_mean_squared_error: 0.6219 - val_dense_3_root_mean_squared_error: 0.6924\n",
      "Epoch 7/20\n",
      "363/363 [==============================] - 4s 10ms/step - loss: 0.3733 - dense_2_loss: 0.3633 - dense_3_loss: 0.4642 - dense_2_root_mean_squared_error: 0.6027 - dense_3_root_mean_squared_error: 0.6813 - val_loss: 0.3898 - val_dense_2_loss: 0.3804 - val_dense_3_loss: 0.4752 - val_dense_2_root_mean_squared_error: 0.6167 - val_dense_3_root_mean_squared_error: 0.6894\n",
      "Epoch 8/20\n",
      "363/363 [==============================] - 4s 10ms/step - loss: 0.3693 - dense_2_loss: 0.3601 - dense_3_loss: 0.4522 - dense_2_root_mean_squared_error: 0.6001 - dense_3_root_mean_squared_error: 0.6724 - val_loss: 0.3810 - val_dense_2_loss: 0.3726 - val_dense_3_loss: 0.4572 - val_dense_2_root_mean_squared_error: 0.6104 - val_dense_3_root_mean_squared_error: 0.6762\n",
      "Epoch 9/20\n",
      "363/363 [==============================] - 3s 10ms/step - loss: 0.3612 - dense_2_loss: 0.3525 - dense_3_loss: 0.4398 - dense_2_root_mean_squared_error: 0.5937 - dense_3_root_mean_squared_error: 0.6632 - val_loss: 0.3701 - val_dense_2_loss: 0.3623 - val_dense_3_loss: 0.4400 - val_dense_2_root_mean_squared_error: 0.6019 - val_dense_3_root_mean_squared_error: 0.6634\n",
      "Epoch 10/20\n",
      "363/363 [==============================] - 4s 10ms/step - loss: 0.3627 - dense_2_loss: 0.3553 - dense_3_loss: 0.4300 - dense_2_root_mean_squared_error: 0.5960 - dense_3_root_mean_squared_error: 0.6557 - val_loss: 0.3747 - val_dense_2_loss: 0.3668 - val_dense_3_loss: 0.4462 - val_dense_2_root_mean_squared_error: 0.6056 - val_dense_3_root_mean_squared_error: 0.6680\n",
      "Epoch 11/20\n",
      "363/363 [==============================] - 4s 10ms/step - loss: 0.3615 - dense_2_loss: 0.3539 - dense_3_loss: 0.4305 - dense_2_root_mean_squared_error: 0.5949 - dense_3_root_mean_squared_error: 0.6561 - val_loss: 0.3695 - val_dense_2_loss: 0.3624 - val_dense_3_loss: 0.4326 - val_dense_2_root_mean_squared_error: 0.6020 - val_dense_3_root_mean_squared_error: 0.6578\n",
      "Epoch 12/20\n",
      "363/363 [==============================] - 4s 10ms/step - loss: 0.3480 - dense_2_loss: 0.3405 - dense_3_loss: 0.4156 - dense_2_root_mean_squared_error: 0.5835 - dense_3_root_mean_squared_error: 0.6447 - val_loss: 0.3628 - val_dense_2_loss: 0.3563 - val_dense_3_loss: 0.4217 - val_dense_2_root_mean_squared_error: 0.5969 - val_dense_3_root_mean_squared_error: 0.6494\n",
      "Epoch 13/20\n",
      "363/363 [==============================] - 4s 10ms/step - loss: 0.3461 - dense_2_loss: 0.3389 - dense_3_loss: 0.4106 - dense_2_root_mean_squared_error: 0.5821 - dense_3_root_mean_squared_error: 0.6408 - val_loss: 0.3541 - val_dense_2_loss: 0.3465 - val_dense_3_loss: 0.4226 - val_dense_2_root_mean_squared_error: 0.5887 - val_dense_3_root_mean_squared_error: 0.6501\n",
      "Epoch 14/20\n",
      "363/363 [==============================] - 4s 10ms/step - loss: 0.3437 - dense_2_loss: 0.3366 - dense_3_loss: 0.4076 - dense_2_root_mean_squared_error: 0.5801 - dense_3_root_mean_squared_error: 0.6384 - val_loss: 0.3569 - val_dense_2_loss: 0.3497 - val_dense_3_loss: 0.4218 - val_dense_2_root_mean_squared_error: 0.5913 - val_dense_3_root_mean_squared_error: 0.6494\n",
      "Epoch 15/20\n",
      "363/363 [==============================] - 4s 10ms/step - loss: 0.3407 - dense_2_loss: 0.3338 - dense_3_loss: 0.4029 - dense_2_root_mean_squared_error: 0.5777 - dense_3_root_mean_squared_error: 0.6347 - val_loss: 0.3510 - val_dense_2_loss: 0.3446 - val_dense_3_loss: 0.4082 - val_dense_2_root_mean_squared_error: 0.5870 - val_dense_3_root_mean_squared_error: 0.6389\n",
      "Epoch 16/20\n",
      "363/363 [==============================] - 3s 10ms/step - loss: 0.3393 - dense_2_loss: 0.3325 - dense_3_loss: 0.4001 - dense_2_root_mean_squared_error: 0.5766 - dense_3_root_mean_squared_error: 0.6326 - val_loss: 0.3474 - val_dense_2_loss: 0.3410 - val_dense_3_loss: 0.4056 - val_dense_2_root_mean_squared_error: 0.5839 - val_dense_3_root_mean_squared_error: 0.6369\n",
      "Epoch 17/20\n",
      "363/363 [==============================] - 3s 10ms/step - loss: 0.3435 - dense_2_loss: 0.3371 - dense_3_loss: 0.4013 - dense_2_root_mean_squared_error: 0.5806 - dense_3_root_mean_squared_error: 0.6335 - val_loss: 0.3618 - val_dense_2_loss: 0.3567 - val_dense_3_loss: 0.4076 - val_dense_2_root_mean_squared_error: 0.5973 - val_dense_3_root_mean_squared_error: 0.6385\n",
      "Epoch 18/20\n",
      "363/363 [==============================] - 4s 10ms/step - loss: 0.3377 - dense_2_loss: 0.3313 - dense_3_loss: 0.3956 - dense_2_root_mean_squared_error: 0.5756 - dense_3_root_mean_squared_error: 0.6290 - val_loss: 0.3584 - val_dense_2_loss: 0.3518 - val_dense_3_loss: 0.4176 - val_dense_2_root_mean_squared_error: 0.5931 - val_dense_3_root_mean_squared_error: 0.6462\n",
      "Epoch 19/20\n",
      "363/363 [==============================] - 4s 10ms/step - loss: 0.3324 - dense_2_loss: 0.3260 - dense_3_loss: 0.3900 - dense_2_root_mean_squared_error: 0.5710 - dense_3_root_mean_squared_error: 0.6245 - val_loss: 0.3598 - val_dense_2_loss: 0.3544 - val_dense_3_loss: 0.4080 - val_dense_2_root_mean_squared_error: 0.5953 - val_dense_3_root_mean_squared_error: 0.6388\n",
      "Epoch 20/20\n",
      "363/363 [==============================] - 4s 10ms/step - loss: 0.3341 - dense_2_loss: 0.3278 - dense_3_loss: 0.3910 - dense_2_root_mean_squared_error: 0.5725 - dense_3_root_mean_squared_error: 0.6253 - val_loss: 0.3551 - val_dense_2_loss: 0.3475 - val_dense_3_loss: 0.4240 - val_dense_2_root_mean_squared_error: 0.5895 - val_dense_3_root_mean_squared_error: 0.6512\n"
     ]
    }
   ],
   "source": [
    "norm_layer_wide.adapt(X_train_wide)\n",
    "norm_layer_deep.adapt(X_train_deep)\n",
    "\n",
    "history = model.fit(\n",
    "    (X_train_wide, X_train_deep), (y_train, y_train), epochs=20,\n",
    "    validation_data=((X_valid_wide, X_valid_deep), (y_valid, y_valid))\n",
    ")"
   ]
  },
  {
   "cell_type": "code",
   "execution_count": 15,
   "id": "4669d972",
   "metadata": {},
   "outputs": [
    {
     "name": "stdout",
     "output_type": "stream",
     "text": [
      "162/162 [==============================] - 1s 6ms/step - loss: 0.3308 - dense_2_loss: 0.3234 - dense_3_loss: 0.3973 - dense_2_root_mean_squared_error: 0.5687 - dense_3_root_mean_squared_error: 0.6303\n"
     ]
    }
   ],
   "source": [
    "weighted_sum_of_losses, main_loss, aux_loss, main_rmse, aux_rmse = \\\n",
    "model.evaluate((X_test_wide, X_test_deep), (y_test, y_test))"
   ]
  },
  {
   "cell_type": "code",
   "execution_count": 16,
   "id": "a17bee5b",
   "metadata": {},
   "outputs": [
    {
     "name": "stdout",
     "output_type": "stream",
     "text": [
      "0.3308311104774475 0.3234446048736572 0.39730948209762573 0.5687219500541687 0.6303249001502991\n"
     ]
    }
   ],
   "source": [
    "print(weighted_sum_of_losses, main_loss, aux_loss, main_rmse, aux_rmse)"
   ]
  },
  {
   "cell_type": "markdown",
   "id": "4952dcef",
   "metadata": {},
   "source": [
    "## Build Dynamic Models"
   ]
  },
  {
   "cell_type": "code",
   "execution_count": 55,
   "id": "b427f485",
   "metadata": {},
   "outputs": [],
   "source": [
    "#subclassing the Model class\n",
    "class WideAndDeepModel(tf.keras.Model):\n",
    "    def __init__(self, units=30, activation='relu', **kwargs):\n",
    "        super().__init__(**kwargs)\n",
    "        self.norm_layer_wide = layers.Normalization()\n",
    "        self.norm_layer_deep = layers.Normalization()\n",
    "        self.hidden1 = layers.Dense(units, activation=activation)\n",
    "        self.hidden2 = layers.Dense(units, activation=activation)\n",
    "        self.main_output = layers.Dense(1)\n",
    "        self.aux_output = layers.Dense(1)\n",
    "    \n",
    "    def call(self, inputs):\n",
    "        input_wide, input_deep = inputs\n",
    "        norm_wide = self.norm_layer_wide(input_wide)\n",
    "        norm_deep = self.norm_layer_deep(input_deep)\n",
    "        hidden1 = self.hidden1(norm_deep)\n",
    "        hidden2 = self.hidden2(hidden1)\n",
    "        concat = layers.concatenate([norm_wide, hidden2])\n",
    "        output = self.main_output(concat)\n",
    "        aux_output = self.aux_output(hidden2)\n",
    "        return output, aux_output\n",
    "    \n",
    "tf.random.set_seed(369)\n",
    "model = WideAndDeepModel(30, activation='relu', name='dynamic_model')"
   ]
  },
  {
   "cell_type": "code",
   "execution_count": 56,
   "id": "02f58789",
   "metadata": {
    "scrolled": true
   },
   "outputs": [
    {
     "name": "stderr",
     "output_type": "stream",
     "text": [
      "2023-01-07 11:03:58.069625: I tensorflow/core/grappler/optimizers/custom_graph_optimizer_registry.cc:113] Plugin optimizer for device_type GPU is enabled.\n",
      "2023-01-07 11:03:58.083944: I tensorflow/core/grappler/optimizers/custom_graph_optimizer_registry.cc:113] Plugin optimizer for device_type GPU is enabled.\n",
      "2023-01-07 11:03:58.783878: I tensorflow/core/grappler/optimizers/custom_graph_optimizer_registry.cc:113] Plugin optimizer for device_type GPU is enabled.\n",
      "2023-01-07 11:03:58.797908: I tensorflow/core/grappler/optimizers/custom_graph_optimizer_registry.cc:113] Plugin optimizer for device_type GPU is enabled.\n"
     ]
    },
    {
     "name": "stdout",
     "output_type": "stream",
     "text": [
      "Epoch 1/10\n",
      "  6/363 [..............................] - ETA: 3s - loss: 5.7931 - output_1_loss: 5.7476 - output_2_loss: 6.2028 - output_1_root_mean_squared_error: 2.3974 - output_2_root_mean_squared_error: 2.4905  "
     ]
    },
    {
     "name": "stderr",
     "output_type": "stream",
     "text": [
      "2023-01-07 11:03:59.700319: I tensorflow/core/grappler/optimizers/custom_graph_optimizer_registry.cc:113] Plugin optimizer for device_type GPU is enabled.\n"
     ]
    },
    {
     "name": "stdout",
     "output_type": "stream",
     "text": [
      "363/363 [==============================] - ETA: 0s - loss: 1.4539 - output_1_loss: 1.3719 - output_2_loss: 2.1918 - output_1_root_mean_squared_error: 1.1713 - output_2_root_mean_squared_error: 1.4805"
     ]
    },
    {
     "name": "stderr",
     "output_type": "stream",
     "text": [
      "2023-01-07 11:04:02.978978: I tensorflow/core/grappler/optimizers/custom_graph_optimizer_registry.cc:113] Plugin optimizer for device_type GPU is enabled.\n"
     ]
    },
    {
     "name": "stdout",
     "output_type": "stream",
     "text": [
      "363/363 [==============================] - 4s 10ms/step - loss: 1.4539 - output_1_loss: 1.3719 - output_2_loss: 2.1918 - output_1_root_mean_squared_error: 1.1713 - output_2_root_mean_squared_error: 1.4805 - val_loss: 0.7240 - val_output_1_loss: 0.6797 - val_output_2_loss: 1.1228 - val_output_1_root_mean_squared_error: 0.8244 - val_output_2_root_mean_squared_error: 1.0596\n",
      "Epoch 2/10\n",
      "363/363 [==============================] - 4s 10ms/step - loss: 0.6107 - output_1_loss: 0.5786 - output_2_loss: 0.9000 - output_1_root_mean_squared_error: 0.7606 - output_2_root_mean_squared_error: 0.9487 - val_loss: 0.5615 - val_output_1_loss: 0.5408 - val_output_2_loss: 0.7477 - val_output_1_root_mean_squared_error: 0.7354 - val_output_2_root_mean_squared_error: 0.8647\n",
      "Epoch 3/10\n",
      "363/363 [==============================] - 4s 10ms/step - loss: 0.4901 - output_1_loss: 0.4700 - output_2_loss: 0.6716 - output_1_root_mean_squared_error: 0.6855 - output_2_root_mean_squared_error: 0.8195 - val_loss: 0.4590 - val_output_1_loss: 0.4417 - val_output_2_loss: 0.6143 - val_output_1_root_mean_squared_error: 0.6646 - val_output_2_root_mean_squared_error: 0.7837\n",
      "Epoch 4/10\n",
      "363/363 [==============================] - 4s 10ms/step - loss: 0.4368 - output_1_loss: 0.4208 - output_2_loss: 0.5808 - output_1_root_mean_squared_error: 0.6487 - output_2_root_mean_squared_error: 0.7621 - val_loss: 0.4238 - val_output_1_loss: 0.4091 - val_output_2_loss: 0.5562 - val_output_1_root_mean_squared_error: 0.6396 - val_output_2_root_mean_squared_error: 0.7458\n",
      "Epoch 5/10\n",
      "363/363 [==============================] - 3s 10ms/step - loss: 0.4063 - output_1_loss: 0.3927 - output_2_loss: 0.5286 - output_1_root_mean_squared_error: 0.6266 - output_2_root_mean_squared_error: 0.7271 - val_loss: 0.4044 - val_output_1_loss: 0.3922 - val_output_2_loss: 0.5142 - val_output_1_root_mean_squared_error: 0.6262 - val_output_2_root_mean_squared_error: 0.7171\n",
      "Epoch 6/10\n",
      "363/363 [==============================] - 3s 10ms/step - loss: 0.3894 - output_1_loss: 0.3781 - output_2_loss: 0.4918 - output_1_root_mean_squared_error: 0.6149 - output_2_root_mean_squared_error: 0.7013 - val_loss: 0.3960 - val_output_1_loss: 0.3867 - val_output_2_loss: 0.4794 - val_output_1_root_mean_squared_error: 0.6219 - val_output_2_root_mean_squared_error: 0.6924\n",
      "Epoch 7/10\n",
      "363/363 [==============================] - 3s 10ms/step - loss: 0.3733 - output_1_loss: 0.3633 - output_2_loss: 0.4642 - output_1_root_mean_squared_error: 0.6027 - output_2_root_mean_squared_error: 0.6813 - val_loss: 0.3898 - val_output_1_loss: 0.3804 - val_output_2_loss: 0.4752 - val_output_1_root_mean_squared_error: 0.6167 - val_output_2_root_mean_squared_error: 0.6894\n",
      "Epoch 8/10\n",
      "363/363 [==============================] - 4s 10ms/step - loss: 0.3693 - output_1_loss: 0.3601 - output_2_loss: 0.4522 - output_1_root_mean_squared_error: 0.6001 - output_2_root_mean_squared_error: 0.6724 - val_loss: 0.3810 - val_output_1_loss: 0.3726 - val_output_2_loss: 0.4572 - val_output_1_root_mean_squared_error: 0.6104 - val_output_2_root_mean_squared_error: 0.6762\n",
      "Epoch 9/10\n",
      "363/363 [==============================] - 4s 10ms/step - loss: 0.3612 - output_1_loss: 0.3525 - output_2_loss: 0.4398 - output_1_root_mean_squared_error: 0.5937 - output_2_root_mean_squared_error: 0.6632 - val_loss: 0.3701 - val_output_1_loss: 0.3623 - val_output_2_loss: 0.4400 - val_output_1_root_mean_squared_error: 0.6019 - val_output_2_root_mean_squared_error: 0.6634\n",
      "Epoch 10/10\n",
      "363/363 [==============================] - 3s 10ms/step - loss: 0.3627 - output_1_loss: 0.3553 - output_2_loss: 0.4300 - output_1_root_mean_squared_error: 0.5960 - output_2_root_mean_squared_error: 0.6557 - val_loss: 0.3747 - val_output_1_loss: 0.3668 - val_output_2_loss: 0.4462 - val_output_1_root_mean_squared_error: 0.6056 - val_output_2_root_mean_squared_error: 0.6680\n",
      "162/162 [==============================] - 1s 6ms/step - loss: 0.3519 - output_1_loss: 0.3429 - output_2_loss: 0.4325 - output_1_root_mean_squared_error: 0.5856 - output_2_root_mean_squared_error: 0.6576\n"
     ]
    }
   ],
   "source": [
    "optimizer = tf.keras.optimizers.Adam(learning_rate=1e-3)\n",
    "model.compile(loss='mse', loss_weights=[0.9, 0.1], optimizer=optimizer, metrics=['RootMeanSquaredError'])\n",
    "model.norm_layer_wide.adapt(X_train_wide)\n",
    "model.norm_layer_deep.adapt(X_train_deep)\n",
    "\n",
    "history = model.fit(\n",
    "    (X_train_wide, X_train_deep), (y_train, y_train), epochs=10,\n",
    "    validation_data=((X_valid_wide, X_valid_deep), (y_valid, y_valid)))\n",
    "\n",
    "weighted_sum_of_losses, main_loss, aux_loss, main_rmse, aux_rmse = \\\n",
    "model.evaluate((X_test_wide, X_test_deep), (y_test, y_test))"
   ]
  },
  {
   "cell_type": "code",
   "execution_count": 57,
   "id": "7fbc78c8",
   "metadata": {},
   "outputs": [
    {
     "name": "stdout",
     "output_type": "stream",
     "text": [
      "0.35186731815338135 0.34291303157806396 0.43245503306388855 0.585587739944458 0.6576131582260132\n"
     ]
    }
   ],
   "source": [
    "print(weighted_sum_of_losses, main_loss, aux_loss, main_rmse, aux_rmse)"
   ]
  }
 ],
 "metadata": {
  "kernelspec": {
   "display_name": "Python 3 (ipykernel)",
   "language": "python",
   "name": "python3"
  },
  "language_info": {
   "codemirror_mode": {
    "name": "ipython",
    "version": 3
   },
   "file_extension": ".py",
   "mimetype": "text/x-python",
   "name": "python",
   "nbconvert_exporter": "python",
   "pygments_lexer": "ipython3",
   "version": "3.10.8"
  }
 },
 "nbformat": 4,
 "nbformat_minor": 5
}
