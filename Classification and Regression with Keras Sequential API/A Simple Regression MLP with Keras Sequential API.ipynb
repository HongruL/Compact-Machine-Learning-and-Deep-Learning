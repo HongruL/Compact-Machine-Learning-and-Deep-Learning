{
 "cells": [
  {
   "cell_type": "code",
   "execution_count": 4,
   "id": "58f8d4f1",
   "metadata": {},
   "outputs": [],
   "source": [
    "import tensorflow as tf\n",
    "from tensorflow.keras import layers\n",
    "from sklearn.datasets import fetch_california_housing\n",
    "from sklearn.model_selection import train_test_split"
   ]
  },
  {
   "cell_type": "code",
   "execution_count": 5,
   "id": "7e440277",
   "metadata": {},
   "outputs": [],
   "source": [
    "housing = fetch_california_housing()\n",
    "\n",
    "X_train_full, X_test, y_train_full, y_test = train_test_split(\n",
    "    housing.data, housing.target, random_state=369)\n",
    "X_train, X_valid, y_train, y_valid = train_test_split(\n",
    "    X_train_full, y_train_full, random_state=369)"
   ]
  },
  {
   "cell_type": "code",
   "execution_count": 8,
   "id": "7e8af2c4",
   "metadata": {
    "scrolled": true
   },
   "outputs": [
    {
     "name": "stdout",
     "output_type": "stream",
     "text": [
      "Metal device set to: Apple M1\n"
     ]
    },
    {
     "name": "stderr",
     "output_type": "stream",
     "text": [
      "2023-01-05 15:12:17.220600: I tensorflow/core/common_runtime/pluggable_device/pluggable_device_factory.cc:305] Could not identify NUMA node of platform GPU ID 0, defaulting to 0. Your kernel may not have been built with NUMA support.\n",
      "2023-01-05 15:12:17.220889: I tensorflow/core/common_runtime/pluggable_device/pluggable_device_factory.cc:271] Created TensorFlow device (/job:localhost/replica:0/task:0/device:GPU:0 with 0 MB memory) -> physical PluggableDevice (device: 0, name: METAL, pci bus id: <undefined>)\n",
      "2023-01-05 15:12:17.778703: W tensorflow/core/platform/profile_utils/cpu_utils.cc:128] Failed to get CPU frequency: 0 Hz\n",
      "2023-01-05 15:12:17.809509: I tensorflow/core/grappler/optimizers/custom_graph_optimizer_registry.cc:113] Plugin optimizer for device_type GPU is enabled.\n"
     ]
    },
    {
     "name": "stdout",
     "output_type": "stream",
     "text": [
      "Epoch 1/20\n"
     ]
    },
    {
     "name": "stderr",
     "output_type": "stream",
     "text": [
      "2023-01-05 15:12:18.891161: I tensorflow/core/grappler/optimizers/custom_graph_optimizer_registry.cc:113] Plugin optimizer for device_type GPU is enabled.\n"
     ]
    },
    {
     "name": "stdout",
     "output_type": "stream",
     "text": [
      "363/363 [==============================] - ETA: 0s - loss: 0.7995 - root_mean_squared_error: 0.8942"
     ]
    },
    {
     "name": "stderr",
     "output_type": "stream",
     "text": [
      "2023-01-05 15:12:22.168343: I tensorflow/core/grappler/optimizers/custom_graph_optimizer_registry.cc:113] Plugin optimizer for device_type GPU is enabled.\n"
     ]
    },
    {
     "name": "stdout",
     "output_type": "stream",
     "text": [
      "363/363 [==============================] - 4s 6ms/step - loss: 0.7995 - root_mean_squared_error: 0.8942 - val_loss: 0.4382 - val_root_mean_squared_error: 0.6620\n",
      "Epoch 2/20\n",
      "363/363 [==============================] - 2s 6ms/step - loss: 0.4065 - root_mean_squared_error: 0.6376 - val_loss: 0.3939 - val_root_mean_squared_error: 0.6276\n",
      "Epoch 3/20\n",
      "363/363 [==============================] - 2s 6ms/step - loss: 0.3694 - root_mean_squared_error: 0.6078 - val_loss: 0.3671 - val_root_mean_squared_error: 0.6059\n",
      "Epoch 4/20\n",
      "363/363 [==============================] - 2s 6ms/step - loss: 0.3501 - root_mean_squared_error: 0.5917 - val_loss: 0.3510 - val_root_mean_squared_error: 0.5925\n",
      "Epoch 5/20\n",
      "363/363 [==============================] - 2s 6ms/step - loss: 0.3379 - root_mean_squared_error: 0.5813 - val_loss: 0.3432 - val_root_mean_squared_error: 0.5858\n",
      "Epoch 6/20\n",
      "363/363 [==============================] - 2s 6ms/step - loss: 0.3312 - root_mean_squared_error: 0.5755 - val_loss: 0.3347 - val_root_mean_squared_error: 0.5786\n",
      "Epoch 7/20\n",
      "363/363 [==============================] - 2s 6ms/step - loss: 0.3129 - root_mean_squared_error: 0.5594 - val_loss: 0.3200 - val_root_mean_squared_error: 0.5657\n",
      "Epoch 8/20\n",
      "363/363 [==============================] - 2s 6ms/step - loss: 0.3101 - root_mean_squared_error: 0.5569 - val_loss: 0.3140 - val_root_mean_squared_error: 0.5604\n",
      "Epoch 9/20\n",
      "363/363 [==============================] - 2s 6ms/step - loss: 0.3070 - root_mean_squared_error: 0.5541 - val_loss: 0.3110 - val_root_mean_squared_error: 0.5577\n",
      "Epoch 10/20\n",
      "363/363 [==============================] - 2s 6ms/step - loss: 0.2959 - root_mean_squared_error: 0.5440 - val_loss: 0.3080 - val_root_mean_squared_error: 0.5550\n",
      "Epoch 11/20\n",
      "363/363 [==============================] - 2s 6ms/step - loss: 0.2952 - root_mean_squared_error: 0.5433 - val_loss: 0.3117 - val_root_mean_squared_error: 0.5583\n",
      "Epoch 12/20\n",
      "363/363 [==============================] - 2s 6ms/step - loss: 0.2882 - root_mean_squared_error: 0.5369 - val_loss: 0.3192 - val_root_mean_squared_error: 0.5649\n",
      "Epoch 13/20\n",
      "363/363 [==============================] - 2s 6ms/step - loss: 0.2905 - root_mean_squared_error: 0.5390 - val_loss: 0.3013 - val_root_mean_squared_error: 0.5489\n",
      "Epoch 14/20\n",
      "363/363 [==============================] - 2s 6ms/step - loss: 0.2837 - root_mean_squared_error: 0.5327 - val_loss: 0.3077 - val_root_mean_squared_error: 0.5547\n",
      "Epoch 15/20\n",
      "363/363 [==============================] - 2s 6ms/step - loss: 0.2794 - root_mean_squared_error: 0.5286 - val_loss: 0.3051 - val_root_mean_squared_error: 0.5524\n",
      "Epoch 16/20\n",
      "363/363 [==============================] - 2s 6ms/step - loss: 0.2792 - root_mean_squared_error: 0.5284 - val_loss: 0.2981 - val_root_mean_squared_error: 0.5460\n",
      "Epoch 17/20\n",
      "363/363 [==============================] - 2s 6ms/step - loss: 0.2761 - root_mean_squared_error: 0.5255 - val_loss: 0.3204 - val_root_mean_squared_error: 0.5660\n",
      "Epoch 18/20\n",
      "363/363 [==============================] - 2s 6ms/step - loss: 0.2735 - root_mean_squared_error: 0.5230 - val_loss: 0.3019 - val_root_mean_squared_error: 0.5495\n",
      "Epoch 19/20\n",
      "363/363 [==============================] - 2s 6ms/step - loss: 0.2720 - root_mean_squared_error: 0.5216 - val_loss: 0.2941 - val_root_mean_squared_error: 0.5423\n",
      "Epoch 20/20\n",
      "363/363 [==============================] - 2s 6ms/step - loss: 0.2691 - root_mean_squared_error: 0.5188 - val_loss: 0.3109 - val_root_mean_squared_error: 0.5576\n",
      "162/162 [==============================] - 1s 4ms/step - loss: 0.2925 - root_mean_squared_error: 0.5408\n"
     ]
    }
   ],
   "source": [
    "tf.random.set_seed(369)\n",
    "\n",
    "#scale the data\n",
    "norm_layer = layers.Normalization(input_shape=X_train.shape[1:])\n",
    "\n",
    "model = tf.keras.Sequential([\n",
    "    norm_layer,\n",
    "    layers.Dense(50, activation='relu'),\n",
    "    layers.Dense(50, activation='relu'),\n",
    "    layers.Dense(50, activation='relu'),\n",
    "    layers.Dense(1)\n",
    "])\n",
    "optimizer = tf.keras.optimizers.Adam(learning_rate=1e-3)\n",
    "\n",
    "model.compile(loss='mse', optimizer=optimizer, metrics=['RootMeanSquaredError'])\n",
    "norm_layer.adapt(X_train)\n",
    "\n",
    "history = model.fit(X_train, y_train, epochs=20, validation_data=(X_valid, y_valid))\n",
    "\n",
    "mse_test, rmse_test = model.evaluate(X_test, y_test)"
   ]
  },
  {
   "cell_type": "code",
   "execution_count": 9,
   "id": "2bbc7318",
   "metadata": {},
   "outputs": [
    {
     "name": "stdout",
     "output_type": "stream",
     "text": [
      "0.29246222972869873 0.540797770023346\n"
     ]
    }
   ],
   "source": [
    "print(mse_test, rmse_test)"
   ]
  }
 ],
 "metadata": {
  "kernelspec": {
   "display_name": "Python 3 (ipykernel)",
   "language": "python",
   "name": "python3"
  },
  "language_info": {
   "codemirror_mode": {
    "name": "ipython",
    "version": 3
   },
   "file_extension": ".py",
   "mimetype": "text/x-python",
   "name": "python",
   "nbconvert_exporter": "python",
   "pygments_lexer": "ipython3",
   "version": "3.10.8"
  }
 },
 "nbformat": 4,
 "nbformat_minor": 5
}
