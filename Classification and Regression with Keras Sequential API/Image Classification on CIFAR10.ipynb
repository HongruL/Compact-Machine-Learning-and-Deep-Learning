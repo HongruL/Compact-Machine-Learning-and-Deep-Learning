{
 "cells": [
  {
   "cell_type": "markdown",
   "id": "8b21db3f",
   "metadata": {},
   "source": [
    "In this project, we will train a deep neural network on the CIFAR10 image dataset. We will test two training approaches - with and without batch normalization."
   ]
  },
  {
   "cell_type": "code",
   "execution_count": 1,
   "id": "63319f08",
   "metadata": {},
   "outputs": [],
   "source": [
    "import tensorflow as tf"
   ]
  },
  {
   "cell_type": "markdown",
   "id": "f3868b2d",
   "metadata": {},
   "source": [
    "We will firstly built a very deep neural network and use Swish activation function and He initialization."
   ]
  },
  {
   "cell_type": "code",
   "execution_count": 2,
   "id": "69483bf4",
   "metadata": {},
   "outputs": [],
   "source": [
    "tf.random.set_seed(42)\n",
    "\n",
    "model = tf.keras.models.Sequential()\n",
    "model.add(tf.keras.layers.Flatten(input_shape=[32,32,3]))\n",
    "\n",
    "for _ in range(20):\n",
    "    model.add(tf.keras.layers.Dense(100, activation='swish', kernel_initializer='he_normal'))"
   ]
  },
  {
   "cell_type": "code",
   "execution_count": 3,
   "id": "30679ac4",
   "metadata": {},
   "outputs": [],
   "source": [
    "model.add(tf.keras.layers.Dense(10, activation='softmax'))"
   ]
  },
  {
   "cell_type": "code",
   "execution_count": 4,
   "id": "d1537d78",
   "metadata": {},
   "outputs": [],
   "source": [
    "#Nadam optimizer with a learning rate of 5e-5.\n",
    "optimizer = tf.keras.optimizers.Nadam(learning_rate=5e-5)\n",
    "model.compile(loss='sparse_categorical_crossentropy', optimizer=optimizer, metrics=['accuracy'])"
   ]
  },
  {
   "cell_type": "code",
   "execution_count": 5,
   "id": "1f1ce96c",
   "metadata": {},
   "outputs": [],
   "source": [
    "cifar10 = tf.keras.datasets.cifar10.load_data()\n",
    "(X_train_full, y_train_full), (X_test, y_test) = cifar10\n",
    "\n",
    "X_train = X_train_full[5000:]\n",
    "y_train = y_train_full[5000:]\n",
    "X_valid = X_train_full[:5000]\n",
    "y_valid = y_train_full[:5000]"
   ]
  },
  {
   "cell_type": "code",
   "execution_count": 6,
   "id": "d91bbc23",
   "metadata": {},
   "outputs": [
    {
     "name": "stdout",
     "output_type": "stream",
     "text": [
      "Epoch 1/100\n"
     ]
    },
    {
     "name": "stderr",
     "output_type": "stream",
     "text": [
      "2023-01-12 11:01:52.207675: W tensorflow/tsl/platform/profile_utils/cpu_utils.cc:128] Failed to get CPU frequency: 0 Hz\n"
     ]
    },
    {
     "name": "stdout",
     "output_type": "stream",
     "text": [
      "1407/1407 [==============================] - 9s 4ms/step - loss: 4.0668 - accuracy: 0.1645 - val_loss: 2.1401 - val_accuracy: 0.2184\n",
      "Epoch 2/100\n",
      "1407/1407 [==============================] - 6s 4ms/step - loss: 2.0614 - accuracy: 0.2466 - val_loss: 1.9954 - val_accuracy: 0.2604\n",
      "Epoch 3/100\n",
      "1407/1407 [==============================] - 6s 5ms/step - loss: 1.9531 - accuracy: 0.2821 - val_loss: 1.9072 - val_accuracy: 0.2930\n",
      "Epoch 4/100\n",
      "1407/1407 [==============================] - 6s 4ms/step - loss: 1.8805 - accuracy: 0.3150 - val_loss: 1.8855 - val_accuracy: 0.3212\n",
      "Epoch 5/100\n",
      "1407/1407 [==============================] - 6s 5ms/step - loss: 1.8202 - accuracy: 0.3330 - val_loss: 1.7680 - val_accuracy: 0.3500\n",
      "Epoch 6/100\n",
      "1407/1407 [==============================] - 6s 5ms/step - loss: 1.7681 - accuracy: 0.3589 - val_loss: 1.7655 - val_accuracy: 0.3528\n",
      "Epoch 7/100\n",
      "1407/1407 [==============================] - 6s 5ms/step - loss: 1.7232 - accuracy: 0.3727 - val_loss: 1.7177 - val_accuracy: 0.3652\n",
      "Epoch 8/100\n",
      "1407/1407 [==============================] - 6s 4ms/step - loss: 1.6851 - accuracy: 0.3913 - val_loss: 1.6685 - val_accuracy: 0.3970\n",
      "Epoch 9/100\n",
      "1407/1407 [==============================] - 6s 4ms/step - loss: 1.6530 - accuracy: 0.4041 - val_loss: 1.6800 - val_accuracy: 0.3924\n",
      "Epoch 10/100\n",
      "1407/1407 [==============================] - 6s 4ms/step - loss: 1.6281 - accuracy: 0.4134 - val_loss: 1.6660 - val_accuracy: 0.3986\n",
      "Epoch 11/100\n",
      "1407/1407 [==============================] - 6s 5ms/step - loss: 1.6039 - accuracy: 0.4197 - val_loss: 1.7126 - val_accuracy: 0.3768\n",
      "Epoch 12/100\n",
      "1407/1407 [==============================] - 7s 5ms/step - loss: 1.5826 - accuracy: 0.4298 - val_loss: 1.6327 - val_accuracy: 0.4050\n",
      "Epoch 13/100\n",
      "1407/1407 [==============================] - 6s 5ms/step - loss: 1.5577 - accuracy: 0.4375 - val_loss: 1.6418 - val_accuracy: 0.4104\n",
      "Epoch 14/100\n",
      "1407/1407 [==============================] - 7s 5ms/step - loss: 1.5427 - accuracy: 0.4419 - val_loss: 1.5961 - val_accuracy: 0.4306\n",
      "Epoch 15/100\n",
      "1407/1407 [==============================] - 6s 4ms/step - loss: 1.5278 - accuracy: 0.4501 - val_loss: 1.5751 - val_accuracy: 0.4374\n",
      "Epoch 16/100\n",
      "1407/1407 [==============================] - 6s 4ms/step - loss: 1.5089 - accuracy: 0.4572 - val_loss: 1.5598 - val_accuracy: 0.4400\n",
      "Epoch 17/100\n",
      "1407/1407 [==============================] - 6s 5ms/step - loss: 1.4922 - accuracy: 0.4629 - val_loss: 1.5899 - val_accuracy: 0.4332\n",
      "Epoch 18/100\n",
      "1407/1407 [==============================] - 6s 5ms/step - loss: 1.4763 - accuracy: 0.4677 - val_loss: 1.5875 - val_accuracy: 0.4398\n",
      "Epoch 19/100\n",
      "1407/1407 [==============================] - 7s 5ms/step - loss: 1.4669 - accuracy: 0.4707 - val_loss: 1.5402 - val_accuracy: 0.4486\n",
      "Epoch 20/100\n",
      "1407/1407 [==============================] - 7s 5ms/step - loss: 1.4511 - accuracy: 0.4765 - val_loss: 1.5706 - val_accuracy: 0.4414\n",
      "Epoch 21/100\n",
      "1407/1407 [==============================] - 7s 5ms/step - loss: 1.4414 - accuracy: 0.4818 - val_loss: 1.5911 - val_accuracy: 0.4322\n",
      "Epoch 22/100\n",
      "1407/1407 [==============================] - 7s 5ms/step - loss: 1.4286 - accuracy: 0.4856 - val_loss: 1.5591 - val_accuracy: 0.4492\n",
      "Epoch 23/100\n",
      "1407/1407 [==============================] - 6s 5ms/step - loss: 1.4144 - accuracy: 0.4912 - val_loss: 1.5471 - val_accuracy: 0.4502\n",
      "Epoch 24/100\n",
      "1407/1407 [==============================] - 7s 5ms/step - loss: 1.4040 - accuracy: 0.4920 - val_loss: 1.5422 - val_accuracy: 0.4524\n",
      "Epoch 25/100\n",
      "1407/1407 [==============================] - 7s 5ms/step - loss: 1.3920 - accuracy: 0.5002 - val_loss: 1.5511 - val_accuracy: 0.4504\n",
      "Epoch 26/100\n",
      "1407/1407 [==============================] - 7s 5ms/step - loss: 1.3836 - accuracy: 0.4999 - val_loss: 1.5591 - val_accuracy: 0.4470\n",
      "Epoch 27/100\n",
      "1407/1407 [==============================] - 6s 5ms/step - loss: 1.3718 - accuracy: 0.5076 - val_loss: 1.5338 - val_accuracy: 0.4576\n",
      "Epoch 28/100\n",
      "1407/1407 [==============================] - 6s 4ms/step - loss: 1.3677 - accuracy: 0.5081 - val_loss: 1.5358 - val_accuracy: 0.4506\n",
      "Epoch 29/100\n",
      "1407/1407 [==============================] - 6s 5ms/step - loss: 1.3566 - accuracy: 0.5115 - val_loss: 1.5212 - val_accuracy: 0.4566\n",
      "Epoch 30/100\n",
      "1407/1407 [==============================] - 6s 5ms/step - loss: 1.3419 - accuracy: 0.5189 - val_loss: 1.5660 - val_accuracy: 0.4502\n",
      "Epoch 31/100\n",
      "1407/1407 [==============================] - 7s 5ms/step - loss: 1.3345 - accuracy: 0.5173 - val_loss: 1.5451 - val_accuracy: 0.4624\n",
      "Epoch 32/100\n",
      "1407/1407 [==============================] - 6s 5ms/step - loss: 1.3239 - accuracy: 0.5256 - val_loss: 1.5009 - val_accuracy: 0.4726\n",
      "Epoch 33/100\n",
      "1407/1407 [==============================] - 6s 5ms/step - loss: 1.3175 - accuracy: 0.5273 - val_loss: 1.5451 - val_accuracy: 0.4646\n",
      "Epoch 34/100\n",
      "1407/1407 [==============================] - 6s 5ms/step - loss: 1.3113 - accuracy: 0.5282 - val_loss: 1.5455 - val_accuracy: 0.4754\n",
      "Epoch 35/100\n",
      "1407/1407 [==============================] - 6s 5ms/step - loss: 1.2981 - accuracy: 0.5325 - val_loss: 1.5440 - val_accuracy: 0.4680\n",
      "Epoch 36/100\n",
      "1407/1407 [==============================] - 6s 5ms/step - loss: 1.2922 - accuracy: 0.5351 - val_loss: 1.5098 - val_accuracy: 0.4744\n",
      "Epoch 37/100\n",
      "1407/1407 [==============================] - 6s 5ms/step - loss: 1.2799 - accuracy: 0.5383 - val_loss: 1.5411 - val_accuracy: 0.4764\n",
      "Epoch 38/100\n",
      "1407/1407 [==============================] - 6s 4ms/step - loss: 1.2763 - accuracy: 0.5407 - val_loss: 1.5208 - val_accuracy: 0.4676\n",
      "Epoch 39/100\n",
      "1407/1407 [==============================] - 6s 4ms/step - loss: 1.2669 - accuracy: 0.5430 - val_loss: 1.5638 - val_accuracy: 0.4542\n",
      "Epoch 40/100\n",
      "1407/1407 [==============================] - 6s 4ms/step - loss: 1.2601 - accuracy: 0.5472 - val_loss: 1.5384 - val_accuracy: 0.4712\n",
      "Epoch 41/100\n",
      "1407/1407 [==============================] - 6s 5ms/step - loss: 1.2536 - accuracy: 0.5489 - val_loss: 1.5266 - val_accuracy: 0.4722\n",
      "Epoch 42/100\n",
      "1407/1407 [==============================] - 6s 5ms/step - loss: 1.2442 - accuracy: 0.5522 - val_loss: 1.5314 - val_accuracy: 0.4682\n"
     ]
    }
   ],
   "source": [
    "model_checkpoint_cb = tf.keras.callbacks.ModelCheckpoint('cifar10_model', save_weights_only=True, save_best_only=True)\n",
    "early_stopping_cb = tf.keras.callbacks.EarlyStopping(patience=10, restore_best_weights=True)\n",
    "\n",
    "history = model.fit(X_train, y_train, epochs=100,\n",
    "                    callbacks=[model_checkpoint_cb, early_stopping_cb],\n",
    "                   validation_data=(X_valid, y_valid))"
   ]
  },
  {
   "cell_type": "code",
   "execution_count": 7,
   "id": "85081513",
   "metadata": {},
   "outputs": [
    {
     "name": "stdout",
     "output_type": "stream",
     "text": [
      "157/157 [==============================] - 0s 805us/step - loss: 1.5009 - accuracy: 0.4726\n"
     ]
    },
    {
     "data": {
      "text/plain": [
       "[1.500900149345398, 0.4726000130176544]"
      ]
     },
     "execution_count": 7,
     "metadata": {},
     "output_type": "execute_result"
    }
   ],
   "source": [
    "model.evaluate(X_valid, y_valid)"
   ]
  },
  {
   "cell_type": "markdown",
   "id": "75478f72",
   "metadata": {},
   "source": [
    "Try with batch normalization"
   ]
  },
  {
   "cell_type": "code",
   "execution_count": 8,
   "id": "4749ce28",
   "metadata": {},
   "outputs": [
    {
     "name": "stdout",
     "output_type": "stream",
     "text": [
      "Epoch 1/100\n",
      "1407/1407 [==============================] - 10s 5ms/step - loss: 2.6449 - accuracy: 0.2119 - val_loss: 1.9437 - val_accuracy: 0.2674\n",
      "Epoch 2/100\n",
      "1407/1407 [==============================] - 7s 5ms/step - loss: 1.9381 - accuracy: 0.2872 - val_loss: 1.8592 - val_accuracy: 0.3208\n",
      "Epoch 3/100\n",
      "1407/1407 [==============================] - 7s 5ms/step - loss: 1.8619 - accuracy: 0.3181 - val_loss: 1.8304 - val_accuracy: 0.3210\n",
      "Epoch 4/100\n",
      "1407/1407 [==============================] - 6s 5ms/step - loss: 1.8135 - accuracy: 0.3358 - val_loss: 1.8382 - val_accuracy: 0.3306\n",
      "Epoch 5/100\n",
      "1407/1407 [==============================] - 6s 5ms/step - loss: 1.7816 - accuracy: 0.3510 - val_loss: 1.9041 - val_accuracy: 0.2992\n",
      "Epoch 6/100\n",
      "1407/1407 [==============================] - 7s 5ms/step - loss: 1.7531 - accuracy: 0.3634 - val_loss: 1.7274 - val_accuracy: 0.3824\n",
      "Epoch 7/100\n",
      "1407/1407 [==============================] - 7s 5ms/step - loss: 1.7110 - accuracy: 0.3846 - val_loss: 1.7390 - val_accuracy: 0.3786\n",
      "Epoch 8/100\n",
      "1407/1407 [==============================] - 7s 5ms/step - loss: 1.6854 - accuracy: 0.3895 - val_loss: 1.6603 - val_accuracy: 0.3950\n",
      "Epoch 9/100\n",
      "1407/1407 [==============================] - 7s 5ms/step - loss: 1.6516 - accuracy: 0.4019 - val_loss: 1.6574 - val_accuracy: 0.4014\n",
      "Epoch 10/100\n",
      "1407/1407 [==============================] - 7s 5ms/step - loss: 1.6305 - accuracy: 0.4135 - val_loss: 1.6361 - val_accuracy: 0.3966\n",
      "Epoch 11/100\n",
      "1407/1407 [==============================] - 6s 5ms/step - loss: 1.6099 - accuracy: 0.4188 - val_loss: 1.7001 - val_accuracy: 0.3894\n",
      "Epoch 12/100\n",
      "1407/1407 [==============================] - 7s 5ms/step - loss: 1.5881 - accuracy: 0.4307 - val_loss: 1.6209 - val_accuracy: 0.4152\n",
      "Epoch 13/100\n",
      "1407/1407 [==============================] - 7s 5ms/step - loss: 1.5708 - accuracy: 0.4373 - val_loss: 1.6094 - val_accuracy: 0.4234\n",
      "Epoch 14/100\n",
      "1407/1407 [==============================] - 7s 5ms/step - loss: 1.5551 - accuracy: 0.4405 - val_loss: 1.5723 - val_accuracy: 0.4382\n",
      "Epoch 15/100\n",
      "1407/1407 [==============================] - 7s 5ms/step - loss: 1.5367 - accuracy: 0.4494 - val_loss: 1.5997 - val_accuracy: 0.4204\n",
      "Epoch 16/100\n",
      "1407/1407 [==============================] - 7s 5ms/step - loss: 1.5224 - accuracy: 0.4540 - val_loss: 1.6026 - val_accuracy: 0.4310\n",
      "Epoch 17/100\n",
      "1407/1407 [==============================] - 7s 5ms/step - loss: 1.5140 - accuracy: 0.4574 - val_loss: 1.5891 - val_accuracy: 0.4288\n",
      "Epoch 18/100\n",
      "1407/1407 [==============================] - 7s 5ms/step - loss: 1.5001 - accuracy: 0.4624 - val_loss: 1.5665 - val_accuracy: 0.4406\n",
      "Epoch 19/100\n",
      "1407/1407 [==============================] - 7s 5ms/step - loss: 1.4852 - accuracy: 0.4712 - val_loss: 1.5484 - val_accuracy: 0.4488\n",
      "Epoch 20/100\n",
      "1407/1407 [==============================] - 7s 5ms/step - loss: 1.4788 - accuracy: 0.4713 - val_loss: 1.5881 - val_accuracy: 0.4322\n",
      "Epoch 21/100\n",
      "1407/1407 [==============================] - 7s 5ms/step - loss: 1.4687 - accuracy: 0.4754 - val_loss: 1.5553 - val_accuracy: 0.4510\n",
      "Epoch 22/100\n",
      "1407/1407 [==============================] - 7s 5ms/step - loss: 1.6129 - accuracy: 0.4272 - val_loss: 1.6492 - val_accuracy: 0.4058\n",
      "Epoch 23/100\n",
      "1407/1407 [==============================] - 6s 5ms/step - loss: 1.5648 - accuracy: 0.4365 - val_loss: 1.6226 - val_accuracy: 0.4088\n",
      "Epoch 24/100\n",
      "1407/1407 [==============================] - 7s 5ms/step - loss: 1.5057 - accuracy: 0.4606 - val_loss: 1.5522 - val_accuracy: 0.4428\n",
      "Epoch 25/100\n",
      "1407/1407 [==============================] - 7s 5ms/step - loss: 1.4714 - accuracy: 0.4733 - val_loss: 1.5338 - val_accuracy: 0.4574\n",
      "Epoch 26/100\n",
      "1407/1407 [==============================] - 7s 5ms/step - loss: 1.4503 - accuracy: 0.4821 - val_loss: 1.5321 - val_accuracy: 0.4528\n",
      "Epoch 27/100\n",
      "1407/1407 [==============================] - 7s 5ms/step - loss: 1.4343 - accuracy: 0.4878 - val_loss: 1.5476 - val_accuracy: 0.4612\n",
      "Epoch 28/100\n",
      "1407/1407 [==============================] - 7s 5ms/step - loss: 1.4260 - accuracy: 0.4945 - val_loss: 1.5289 - val_accuracy: 0.4580\n",
      "Epoch 29/100\n",
      "1407/1407 [==============================] - 7s 5ms/step - loss: 1.4185 - accuracy: 0.4964 - val_loss: 1.5254 - val_accuracy: 0.4596\n",
      "Epoch 30/100\n",
      "1407/1407 [==============================] - 7s 5ms/step - loss: 1.4058 - accuracy: 0.4996 - val_loss: 1.5074 - val_accuracy: 0.4654\n",
      "Epoch 31/100\n",
      "1407/1407 [==============================] - 7s 5ms/step - loss: 1.3920 - accuracy: 0.5048 - val_loss: 1.5248 - val_accuracy: 0.4656\n",
      "Epoch 32/100\n",
      "1407/1407 [==============================] - 6s 5ms/step - loss: 1.3824 - accuracy: 0.5080 - val_loss: 1.5106 - val_accuracy: 0.4712\n",
      "Epoch 33/100\n",
      "1407/1407 [==============================] - 7s 5ms/step - loss: 1.3759 - accuracy: 0.5116 - val_loss: 1.5068 - val_accuracy: 0.4718\n",
      "Epoch 34/100\n",
      "1407/1407 [==============================] - 6s 5ms/step - loss: 1.3653 - accuracy: 0.5145 - val_loss: 1.5194 - val_accuracy: 0.4672\n",
      "Epoch 35/100\n",
      "1407/1407 [==============================] - 6s 5ms/step - loss: 1.3612 - accuracy: 0.5153 - val_loss: 1.5352 - val_accuracy: 0.4604\n",
      "Epoch 36/100\n",
      "1407/1407 [==============================] - 7s 5ms/step - loss: 1.3530 - accuracy: 0.5202 - val_loss: 1.5302 - val_accuracy: 0.4624\n",
      "Epoch 37/100\n",
      "1407/1407 [==============================] - 7s 5ms/step - loss: 1.3442 - accuracy: 0.5224 - val_loss: 1.5243 - val_accuracy: 0.4672\n",
      "Epoch 38/100\n",
      "1407/1407 [==============================] - 7s 5ms/step - loss: 1.3390 - accuracy: 0.5256 - val_loss: 1.5576 - val_accuracy: 0.4600\n",
      "Epoch 39/100\n",
      "1407/1407 [==============================] - 6s 5ms/step - loss: 1.7503 - accuracy: 0.3628 - val_loss: 1.7149 - val_accuracy: 0.3766\n",
      "Epoch 40/100\n",
      "1407/1407 [==============================] - 7s 5ms/step - loss: 1.6779 - accuracy: 0.3918 - val_loss: 1.6738 - val_accuracy: 0.3890\n",
      "Epoch 41/100\n",
      "1407/1407 [==============================] - 6s 5ms/step - loss: 1.6213 - accuracy: 0.4158 - val_loss: 1.6811 - val_accuracy: 0.3928\n",
      "Epoch 42/100\n",
      "1407/1407 [==============================] - 6s 5ms/step - loss: 1.6162 - accuracy: 0.4221 - val_loss: 1.5900 - val_accuracy: 0.4368\n",
      "Epoch 43/100\n",
      "1407/1407 [==============================] - 6s 5ms/step - loss: 1.5282 - accuracy: 0.4485 - val_loss: 1.6185 - val_accuracy: 0.4328\n",
      "157/157 [==============================] - 0s 977us/step - loss: 1.5068 - accuracy: 0.4718\n"
     ]
    },
    {
     "data": {
      "text/plain": [
       "[1.5067899227142334, 0.4717999994754791]"
      ]
     },
     "execution_count": 8,
     "metadata": {},
     "output_type": "execute_result"
    }
   ],
   "source": [
    "tf.random.set_seed(42)\n",
    "\n",
    "model = tf.keras.Sequential()\n",
    "model.add(tf.keras.layers.Flatten(input_shape=[32, 32, 3]))\n",
    "\n",
    "for _ in range(20):\n",
    "    model.add(tf.keras.layers.Dense(100, kernel_initializer='he_normal'))\n",
    "    model.add(tf.keras.layers.Normalization())\n",
    "    model.add(tf.keras.layers.Activation('swish'))\n",
    "    \n",
    "model.add(tf.keras.layers.Dense(10, activation='softmax'))\n",
    "\n",
    "optimizer = tf.keras.optimizers.Nadam(learning_rate=5e-4)\n",
    "model.compile(loss=\"sparse_categorical_crossentropy\",\n",
    "              optimizer=optimizer,\n",
    "              metrics=[\"accuracy\"])\n",
    "\n",
    "model_checkpoint_cb = tf.keras.callbacks.ModelCheckpoint(\"cifar10_bn_model\",\n",
    "                                                         save_weights_only=True,\n",
    "                                                         save_best_only=True)\n",
    "early_stopping_cb = tf.keras.callbacks.EarlyStopping(patience=10,\n",
    "                                                     restore_best_weights=True)\n",
    "\n",
    "history = model.fit(X_train, y_train, epochs=100,\n",
    "          validation_data=(X_valid, y_valid),\n",
    "          callbacks=[model_checkpoint_cb, early_stopping_cb])\n",
    "\n",
    "model.evaluate(X_valid, y_valid)"
   ]
  }
 ],
 "metadata": {
  "kernelspec": {
   "display_name": "Python 3 (ipykernel)",
   "language": "python",
   "name": "python3"
  },
  "language_info": {
   "codemirror_mode": {
    "name": "ipython",
    "version": 3
   },
   "file_extension": ".py",
   "mimetype": "text/x-python",
   "name": "python",
   "nbconvert_exporter": "python",
   "pygments_lexer": "ipython3",
   "version": "3.10.8"
  }
 },
 "nbformat": 4,
 "nbformat_minor": 5
}
