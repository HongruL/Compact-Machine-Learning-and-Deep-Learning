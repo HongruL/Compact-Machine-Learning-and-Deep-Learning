{
 "cells": [
  {
   "cell_type": "markdown",
   "id": "338cdf77",
   "metadata": {},
   "source": [
    "In this project, we will fine-tune the hyperparameters of a neural network on fashion mnist dataset. More precisely, we will define a function that builds and compiles an MLP to classify Fashion MNIST images, using hyperparameters such as the number of hidden layers (n_hidden), the number of neurons per layer (n_neurons), the learning rate \n",
    "(learning_rate), and the type of optimizer to use (optimizer)."
   ]
  },
  {
   "cell_type": "code",
   "execution_count": 3,
   "id": "42fe5e17",
   "metadata": {},
   "outputs": [],
   "source": [
    "import tensorflow as tf\n",
    "import keras_tuner as kt"
   ]
  },
  {
   "cell_type": "code",
   "execution_count": 2,
   "id": "5af6bc8b",
   "metadata": {},
   "outputs": [],
   "source": [
    "(X_train_full, y_train_full), (X_test, y_test) = tf.keras.datasets.fashion_mnist.load_data()\n",
    "X_train, y_train = X_train_full[:-5000], y_train_full[:-5000]\n",
    "X_valid, y_valid = X_train_full[-5000:], y_train_full[-5000:]"
   ]
  },
  {
   "cell_type": "code",
   "execution_count": 4,
   "id": "e5a0e3e3",
   "metadata": {},
   "outputs": [],
   "source": [
    "def build_model(hp):\n",
    "    #define the hyperparameters\n",
    "    n_hidden = hp.Int('n_hidden', min_value=0, max_value=8, default=2)\n",
    "    n_neurons = hp.Int('n_neurons', min_value=16, max_value=256)\n",
    "    learning_rate = hp.Float('learning_rate', min_value=1e-4, max_value=1e-2, sampling='log')\n",
    "    optimizer = hp.Choice('optimizer', values=['sgd', 'adam'])\n",
    "    if optimizer == 'sgd':\n",
    "        optimizer = tf.keras.optimizers.SGD(learning_rate=learning_rate)\n",
    "    else:\n",
    "        optimizer = tf.keras.optimizers.Adam(learning_rate=learning_rate)\n",
    "        \n",
    "    model = tf.keras.Sequential()\n",
    "    model.add(tf.keras.layers.Flatten())\n",
    "    \n",
    "    for _ in range(n_hidden):\n",
    "        model.add(tf.keras.layers.Dense(n_neurons, activation='relu'))\n",
    "    model.add(tf.keras.layers.Dense(10, activation='softmax'))\n",
    "    \n",
    "    model.compile(loss='sparse_categorical_crossentropy', optimizer=optimizer, metrics=['accuracy'])\n",
    "    \n",
    "    return model"
   ]
  },
  {
   "cell_type": "markdown",
   "id": "bebd141a",
   "metadata": {},
   "source": [
    "Perform randomized search:"
   ]
  },
  {
   "cell_type": "code",
   "execution_count": 5,
   "id": "6229d709",
   "metadata": {},
   "outputs": [
    {
     "name": "stdout",
     "output_type": "stream",
     "text": [
      "Trial 5 Complete [00h 02m 26s]\n",
      "val_accuracy: 0.8774000406265259\n",
      "\n",
      "Best val_accuracy So Far: 0.8774000406265259\n",
      "Total elapsed time: 00h 09m 16s\n",
      "INFO:tensorflow:Oracle triggered exit\n"
     ]
    }
   ],
   "source": [
    "random_search_tuner = kt.RandomSearch(build_model, objective='val_accuracy', max_trials=5, overwrite=True,\n",
    "                                     directory='fashion_mnist', project_name='rnd_search', seed=369)\n",
    "random_search_tuner.search(X_train, y_train, epochs=10, validation_data=(X_valid, y_valid))"
   ]
  },
  {
   "cell_type": "code",
   "execution_count": 17,
   "id": "9aba3b69",
   "metadata": {},
   "outputs": [],
   "source": [
    "best_model = random_search_tuner.get_best_models()[0]\n",
    "\n",
    "best_params = random_search_tuner.get_best_hyperparameters()"
   ]
  },
  {
   "cell_type": "code",
   "execution_count": 18,
   "id": "edb1937a",
   "metadata": {},
   "outputs": [
    {
     "data": {
      "text/plain": [
       "{'n_hidden': 7,\n",
       " 'n_neurons': 165,\n",
       " 'learning_rate': 0.0007592748099523601,\n",
       " 'optimizer': 'adam'}"
      ]
     },
     "execution_count": 18,
     "metadata": {},
     "output_type": "execute_result"
    }
   ],
   "source": [
    "best_params[0].values"
   ]
  },
  {
   "cell_type": "code",
   "execution_count": 19,
   "id": "4f6f134d",
   "metadata": {},
   "outputs": [
    {
     "name": "stdout",
     "output_type": "stream",
     "text": [
      "Trial summary\n",
      "Hyperparameters:\n",
      "n_hidden: 7\n",
      "n_neurons: 165\n",
      "learning_rate: 0.0007592748099523601\n",
      "optimizer: adam\n",
      "Score: 0.8774000406265259\n"
     ]
    }
   ],
   "source": [
    "random_search_tuner.oracle.get_best_trials()[0].summary()"
   ]
  },
  {
   "cell_type": "markdown",
   "id": "4a9d4907",
   "metadata": {},
   "source": [
    "Fit the full training data and evaluate the model on test set:"
   ]
  },
  {
   "cell_type": "code",
   "execution_count": 21,
   "id": "8d9bd35b",
   "metadata": {},
   "outputs": [
    {
     "name": "stdout",
     "output_type": "stream",
     "text": [
      "Epoch 1/10\n",
      "1875/1875 [==============================] - 14s 7ms/step - loss: 0.2569 - accuracy: 0.9071\n",
      "Epoch 2/10\n",
      "1875/1875 [==============================] - 14s 7ms/step - loss: 0.2558 - accuracy: 0.9069\n",
      "Epoch 3/10\n",
      "1875/1875 [==============================] - 14s 7ms/step - loss: 0.2469 - accuracy: 0.9105\n",
      "Epoch 4/10\n",
      "1875/1875 [==============================] - 14s 7ms/step - loss: 0.2441 - accuracy: 0.9107\n",
      "Epoch 5/10\n",
      "1875/1875 [==============================] - 14s 7ms/step - loss: 0.2420 - accuracy: 0.9112\n",
      "Epoch 6/10\n",
      "1875/1875 [==============================] - 14s 7ms/step - loss: 0.2419 - accuracy: 0.9112\n",
      "Epoch 7/10\n",
      "1875/1875 [==============================] - 14s 7ms/step - loss: 0.2364 - accuracy: 0.9146\n",
      "Epoch 8/10\n",
      "1875/1875 [==============================] - 14s 7ms/step - loss: 0.2362 - accuracy: 0.9143\n",
      "Epoch 9/10\n",
      "1875/1875 [==============================] - 14s 7ms/step - loss: 0.2296 - accuracy: 0.9153\n",
      "Epoch 10/10\n",
      "1875/1875 [==============================] - 14s 7ms/step - loss: 0.2374 - accuracy: 0.9142\n",
      " 20/313 [>.............................] - ETA: 1s - loss: 0.3323 - accuracy: 0.8859"
     ]
    },
    {
     "name": "stderr",
     "output_type": "stream",
     "text": [
      "2023-01-08 11:47:40.957557: I tensorflow/core/grappler/optimizers/custom_graph_optimizer_registry.cc:113] Plugin optimizer for device_type GPU is enabled.\n"
     ]
    },
    {
     "name": "stdout",
     "output_type": "stream",
     "text": [
      "313/313 [==============================] - 2s 5ms/step - loss: 0.3906 - accuracy: 0.8864\n"
     ]
    }
   ],
   "source": [
    "history = best_model.fit(X_train_full, y_train_full, epochs=10)\n",
    "test_loss, test_accuracy = best_model.evaluate(X_test, y_test)"
   ]
  },
  {
   "cell_type": "code",
   "execution_count": 22,
   "id": "633bd8b2",
   "metadata": {},
   "outputs": [
    {
     "name": "stdout",
     "output_type": "stream",
     "text": [
      "0.3905956447124481 0.886400043964386\n"
     ]
    }
   ],
   "source": [
    "print(test_loss, test_accuracy)"
   ]
  }
 ],
 "metadata": {
  "kernelspec": {
   "display_name": "Python 3 (ipykernel)",
   "language": "python",
   "name": "python3"
  },
  "language_info": {
   "codemirror_mode": {
    "name": "ipython",
    "version": 3
   },
   "file_extension": ".py",
   "mimetype": "text/x-python",
   "name": "python",
   "nbconvert_exporter": "python",
   "pygments_lexer": "ipython3",
   "version": "3.10.8"
  }
 },
 "nbformat": 4,
 "nbformat_minor": 5
}
