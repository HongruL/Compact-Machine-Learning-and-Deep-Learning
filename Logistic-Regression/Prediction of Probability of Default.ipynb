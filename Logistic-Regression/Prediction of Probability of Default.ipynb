{
 "cells": [
  {
   "cell_type": "code",
   "execution_count": 46,
   "id": "6cb2ba91",
   "metadata": {},
   "outputs": [],
   "source": [
    "import pandas as pd\n",
    "import numpy as np\n",
    "import matplotlib.pyplot as plt\n",
    "import seaborn as sns\n",
    "from sklearn.linear_model import LogisticRegression\n",
    "from sklearn.model_selection import train_test_split, cross_val_score\n",
    "from sklearn.preprocessing import StandardScaler, OneHotEncoder\n",
    "from sklearn.compose import ColumnTransformer\n",
    "from sklearn.pipeline import Pipeline, make_pipeline\n",
    "from sklearn.impute import SimpleImputer\n",
    "from sklearn.metrics import accuracy_score, precision_score, f1_score, roc_auc_score, recall_score"
   ]
  },
  {
   "cell_type": "code",
   "execution_count": 28,
   "id": "7a2c5ba8",
   "metadata": {},
   "outputs": [
    {
     "name": "stdout",
     "output_type": "stream",
     "text": [
      "loan_applicant_id,age,education,years_with_current_employer,years_at_current_address,household_income,debt_to_income_ratio,credit_card_debt,other_debt,y\r",
      "\r\n",
      "191,44,university.degree,10,20,192,12.11664498,14.37731294,8.886645426,1\r",
      "\r\n",
      "34318,34,high.school,3,18,57,14.26422878,5.137880496,2.992729905,0\r",
      "\r\n",
      "14932,45,university.degree,14,24,212,7.285681303,10.46030557,4.985338793,0\r",
      "\r\n",
      "2776,33,illiterate,12,5,418,11.38627229,3.040188811,44.55442934,1\r",
      "\r\n"
     ]
    }
   ],
   "source": [
    "! head -n 5 retail_loans.csv"
   ]
  },
  {
   "cell_type": "code",
   "execution_count": 29,
   "id": "65857a86",
   "metadata": {},
   "outputs": [
    {
     "data": {
      "text/html": [
       "<div>\n",
       "<style scoped>\n",
       "    .dataframe tbody tr th:only-of-type {\n",
       "        vertical-align: middle;\n",
       "    }\n",
       "\n",
       "    .dataframe tbody tr th {\n",
       "        vertical-align: top;\n",
       "    }\n",
       "\n",
       "    .dataframe thead th {\n",
       "        text-align: right;\n",
       "    }\n",
       "</style>\n",
       "<table border=\"1\" class=\"dataframe\">\n",
       "  <thead>\n",
       "    <tr style=\"text-align: right;\">\n",
       "      <th></th>\n",
       "      <th>loan_applicant_id</th>\n",
       "      <th>age</th>\n",
       "      <th>education</th>\n",
       "      <th>years_with_current_employer</th>\n",
       "      <th>years_at_current_address</th>\n",
       "      <th>household_income</th>\n",
       "      <th>debt_to_income_ratio</th>\n",
       "      <th>credit_card_debt</th>\n",
       "      <th>other_debt</th>\n",
       "      <th>y</th>\n",
       "    </tr>\n",
       "  </thead>\n",
       "  <tbody>\n",
       "    <tr>\n",
       "      <th>0</th>\n",
       "      <td>191</td>\n",
       "      <td>44</td>\n",
       "      <td>university.degree</td>\n",
       "      <td>10</td>\n",
       "      <td>20</td>\n",
       "      <td>192</td>\n",
       "      <td>12.116645</td>\n",
       "      <td>14.377313</td>\n",
       "      <td>8.886645</td>\n",
       "      <td>1</td>\n",
       "    </tr>\n",
       "    <tr>\n",
       "      <th>1</th>\n",
       "      <td>34318</td>\n",
       "      <td>34</td>\n",
       "      <td>high.school</td>\n",
       "      <td>3</td>\n",
       "      <td>18</td>\n",
       "      <td>57</td>\n",
       "      <td>14.264229</td>\n",
       "      <td>5.137880</td>\n",
       "      <td>2.992730</td>\n",
       "      <td>0</td>\n",
       "    </tr>\n",
       "    <tr>\n",
       "      <th>2</th>\n",
       "      <td>14932</td>\n",
       "      <td>45</td>\n",
       "      <td>university.degree</td>\n",
       "      <td>14</td>\n",
       "      <td>24</td>\n",
       "      <td>212</td>\n",
       "      <td>7.285681</td>\n",
       "      <td>10.460306</td>\n",
       "      <td>4.985339</td>\n",
       "      <td>0</td>\n",
       "    </tr>\n",
       "    <tr>\n",
       "      <th>3</th>\n",
       "      <td>2776</td>\n",
       "      <td>33</td>\n",
       "      <td>illiterate</td>\n",
       "      <td>12</td>\n",
       "      <td>5</td>\n",
       "      <td>418</td>\n",
       "      <td>11.386272</td>\n",
       "      <td>3.040189</td>\n",
       "      <td>44.554429</td>\n",
       "      <td>1</td>\n",
       "    </tr>\n",
       "    <tr>\n",
       "      <th>4</th>\n",
       "      <td>11915</td>\n",
       "      <td>20</td>\n",
       "      <td>basic</td>\n",
       "      <td>4</td>\n",
       "      <td>19</td>\n",
       "      <td>122</td>\n",
       "      <td>28.418494</td>\n",
       "      <td>14.560450</td>\n",
       "      <td>20.110112</td>\n",
       "      <td>0</td>\n",
       "    </tr>\n",
       "  </tbody>\n",
       "</table>\n",
       "</div>"
      ],
      "text/plain": [
       "   loan_applicant_id  age          education  years_with_current_employer  \\\n",
       "0                191   44  university.degree                           10   \n",
       "1              34318   34        high.school                            3   \n",
       "2              14932   45  university.degree                           14   \n",
       "3               2776   33         illiterate                           12   \n",
       "4              11915   20              basic                            4   \n",
       "\n",
       "   years_at_current_address  household_income  debt_to_income_ratio  \\\n",
       "0                        20               192             12.116645   \n",
       "1                        18                57             14.264229   \n",
       "2                        24               212              7.285681   \n",
       "3                         5               418             11.386272   \n",
       "4                        19               122             28.418494   \n",
       "\n",
       "   credit_card_debt  other_debt  y  \n",
       "0         14.377313    8.886645  1  \n",
       "1          5.137880    2.992730  0  \n",
       "2         10.460306    4.985339  0  \n",
       "3          3.040189   44.554429  1  \n",
       "4         14.560450   20.110112  0  "
      ]
     },
     "execution_count": 29,
     "metadata": {},
     "output_type": "execute_result"
    }
   ],
   "source": [
    "data = pd.read_csv(\"retail_loans.csv\")\n",
    "data.head()"
   ]
  },
  {
   "cell_type": "markdown",
   "id": "f13d875d",
   "metadata": {},
   "source": [
    "- loan_applicant_id: A unique identifier for each loan applicant.\n",
    "- age: The age of the loan applicant.\n",
    "- education: The education level of the loan applicant.\n",
    "- years_with_current_employer: How many years the applicant has been with their current employer.\n",
    "- years_at_current_address: How many years the applicant has lived at their current address.\n",
    "- household_income: The applicant's household income.\n",
    "- debt_to_income_ratio: The applicant's debt-to-income ratio.\n",
    "- credit_card_debt: The amount of the applicant's credit card debt.\n",
    "- other_debt: The amount of the applicant's other debts.\n",
    "- y: The target variable, indicating whether the applicant defaulted (1) or not (0)."
   ]
  },
  {
   "cell_type": "code",
   "execution_count": 30,
   "id": "b6d074c5",
   "metadata": {},
   "outputs": [
    {
     "data": {
      "text/html": [
       "<div>\n",
       "<style scoped>\n",
       "    .dataframe tbody tr th:only-of-type {\n",
       "        vertical-align: middle;\n",
       "    }\n",
       "\n",
       "    .dataframe tbody tr th {\n",
       "        vertical-align: top;\n",
       "    }\n",
       "\n",
       "    .dataframe thead th {\n",
       "        text-align: right;\n",
       "    }\n",
       "</style>\n",
       "<table border=\"1\" class=\"dataframe\">\n",
       "  <thead>\n",
       "    <tr style=\"text-align: right;\">\n",
       "      <th></th>\n",
       "      <th>loan_applicant_id</th>\n",
       "      <th>age</th>\n",
       "      <th>years_with_current_employer</th>\n",
       "      <th>years_at_current_address</th>\n",
       "      <th>household_income</th>\n",
       "      <th>debt_to_income_ratio</th>\n",
       "      <th>credit_card_debt</th>\n",
       "      <th>other_debt</th>\n",
       "      <th>y</th>\n",
       "    </tr>\n",
       "  </thead>\n",
       "  <tbody>\n",
       "    <tr>\n",
       "      <th>count</th>\n",
       "      <td>41188.00000</td>\n",
       "      <td>41188.000000</td>\n",
       "      <td>41188.000000</td>\n",
       "      <td>41188.000000</td>\n",
       "      <td>41188.000000</td>\n",
       "      <td>41188.000000</td>\n",
       "      <td>41188.000000</td>\n",
       "      <td>41188.000000</td>\n",
       "      <td>41188.000000</td>\n",
       "    </tr>\n",
       "    <tr>\n",
       "      <th>mean</th>\n",
       "      <td>20594.50000</td>\n",
       "      <td>38.007842</td>\n",
       "      <td>13.549869</td>\n",
       "      <td>15.385331</td>\n",
       "      <td>139.707366</td>\n",
       "      <td>16.224054</td>\n",
       "      <td>9.577260</td>\n",
       "      <td>13.758168</td>\n",
       "      <td>0.112654</td>\n",
       "    </tr>\n",
       "    <tr>\n",
       "      <th>std</th>\n",
       "      <td>11890.09578</td>\n",
       "      <td>10.623627</td>\n",
       "      <td>8.145105</td>\n",
       "      <td>9.184471</td>\n",
       "      <td>81.688037</td>\n",
       "      <td>9.191426</td>\n",
       "      <td>12.408628</td>\n",
       "      <td>14.596510</td>\n",
       "      <td>0.316173</td>\n",
       "    </tr>\n",
       "    <tr>\n",
       "      <th>min</th>\n",
       "      <td>1.00000</td>\n",
       "      <td>20.000000</td>\n",
       "      <td>0.000000</td>\n",
       "      <td>0.000000</td>\n",
       "      <td>14.000000</td>\n",
       "      <td>0.400386</td>\n",
       "      <td>0.005668</td>\n",
       "      <td>0.021759</td>\n",
       "      <td>0.000000</td>\n",
       "    </tr>\n",
       "    <tr>\n",
       "      <th>25%</th>\n",
       "      <td>10297.75000</td>\n",
       "      <td>29.000000</td>\n",
       "      <td>6.000000</td>\n",
       "      <td>7.000000</td>\n",
       "      <td>74.000000</td>\n",
       "      <td>8.452497</td>\n",
       "      <td>1.853292</td>\n",
       "      <td>3.783906</td>\n",
       "      <td>0.000000</td>\n",
       "    </tr>\n",
       "    <tr>\n",
       "      <th>50%</th>\n",
       "      <td>20594.50000</td>\n",
       "      <td>38.000000</td>\n",
       "      <td>14.000000</td>\n",
       "      <td>15.000000</td>\n",
       "      <td>134.000000</td>\n",
       "      <td>16.105334</td>\n",
       "      <td>5.311447</td>\n",
       "      <td>9.153871</td>\n",
       "      <td>0.000000</td>\n",
       "    </tr>\n",
       "    <tr>\n",
       "      <th>75%</th>\n",
       "      <td>30891.25000</td>\n",
       "      <td>47.000000</td>\n",
       "      <td>21.000000</td>\n",
       "      <td>23.000000</td>\n",
       "      <td>196.000000</td>\n",
       "      <td>23.730786</td>\n",
       "      <td>12.636789</td>\n",
       "      <td>18.906855</td>\n",
       "      <td>0.000000</td>\n",
       "    </tr>\n",
       "    <tr>\n",
       "      <th>max</th>\n",
       "      <td>41188.00000</td>\n",
       "      <td>56.000000</td>\n",
       "      <td>29.000000</td>\n",
       "      <td>31.000000</td>\n",
       "      <td>446.000000</td>\n",
       "      <td>41.293984</td>\n",
       "      <td>149.015859</td>\n",
       "      <td>159.198221</td>\n",
       "      <td>1.000000</td>\n",
       "    </tr>\n",
       "  </tbody>\n",
       "</table>\n",
       "</div>"
      ],
      "text/plain": [
       "       loan_applicant_id           age  years_with_current_employer  \\\n",
       "count        41188.00000  41188.000000                 41188.000000   \n",
       "mean         20594.50000     38.007842                    13.549869   \n",
       "std          11890.09578     10.623627                     8.145105   \n",
       "min              1.00000     20.000000                     0.000000   \n",
       "25%          10297.75000     29.000000                     6.000000   \n",
       "50%          20594.50000     38.000000                    14.000000   \n",
       "75%          30891.25000     47.000000                    21.000000   \n",
       "max          41188.00000     56.000000                    29.000000   \n",
       "\n",
       "       years_at_current_address  household_income  debt_to_income_ratio  \\\n",
       "count              41188.000000      41188.000000          41188.000000   \n",
       "mean                  15.385331        139.707366             16.224054   \n",
       "std                    9.184471         81.688037              9.191426   \n",
       "min                    0.000000         14.000000              0.400386   \n",
       "25%                    7.000000         74.000000              8.452497   \n",
       "50%                   15.000000        134.000000             16.105334   \n",
       "75%                   23.000000        196.000000             23.730786   \n",
       "max                   31.000000        446.000000             41.293984   \n",
       "\n",
       "       credit_card_debt    other_debt             y  \n",
       "count      41188.000000  41188.000000  41188.000000  \n",
       "mean           9.577260     13.758168      0.112654  \n",
       "std           12.408628     14.596510      0.316173  \n",
       "min            0.005668      0.021759      0.000000  \n",
       "25%            1.853292      3.783906      0.000000  \n",
       "50%            5.311447      9.153871      0.000000  \n",
       "75%           12.636789     18.906855      0.000000  \n",
       "max          149.015859    159.198221      1.000000  "
      ]
     },
     "execution_count": 30,
     "metadata": {},
     "output_type": "execute_result"
    }
   ],
   "source": [
    "data.describe()"
   ]
  },
  {
   "cell_type": "code",
   "execution_count": 31,
   "id": "dd6496e0",
   "metadata": {},
   "outputs": [
    {
     "name": "stdout",
     "output_type": "stream",
     "text": [
      "<class 'pandas.core.frame.DataFrame'>\n",
      "RangeIndex: 41188 entries, 0 to 41187\n",
      "Data columns (total 10 columns):\n",
      " #   Column                       Non-Null Count  Dtype  \n",
      "---  ------                       --------------  -----  \n",
      " 0   loan_applicant_id            41188 non-null  int64  \n",
      " 1   age                          41188 non-null  int64  \n",
      " 2   education                    41188 non-null  object \n",
      " 3   years_with_current_employer  41188 non-null  int64  \n",
      " 4   years_at_current_address     41188 non-null  int64  \n",
      " 5   household_income             41188 non-null  int64  \n",
      " 6   debt_to_income_ratio         41188 non-null  float64\n",
      " 7   credit_card_debt             41188 non-null  float64\n",
      " 8   other_debt                   41188 non-null  float64\n",
      " 9   y                            41188 non-null  int64  \n",
      "dtypes: float64(3), int64(6), object(1)\n",
      "memory usage: 3.1+ MB\n"
     ]
    }
   ],
   "source": [
    "data.info()"
   ]
  },
  {
   "cell_type": "code",
   "execution_count": 32,
   "id": "cbcfe5ae",
   "metadata": {},
   "outputs": [
    {
     "data": {
      "text/plain": [
       "loan_applicant_id              0\n",
       "age                            0\n",
       "education                      0\n",
       "years_with_current_employer    0\n",
       "years_at_current_address       0\n",
       "household_income               0\n",
       "debt_to_income_ratio           0\n",
       "credit_card_debt               0\n",
       "other_debt                     0\n",
       "y                              0\n",
       "dtype: int64"
      ]
     },
     "execution_count": 32,
     "metadata": {},
     "output_type": "execute_result"
    }
   ],
   "source": [
    "data.isna().sum()"
   ]
  },
  {
   "cell_type": "markdown",
   "id": "0af48ad9",
   "metadata": {},
   "source": [
    "# Exploratory Data Analysis"
   ]
  },
  {
   "cell_type": "code",
   "execution_count": 33,
   "id": "3195be8d",
   "metadata": {},
   "outputs": [
    {
     "data": {
      "text/plain": [
       "0    0.887346\n",
       "1    0.112654\n",
       "Name: y, dtype: float64"
      ]
     },
     "execution_count": 33,
     "metadata": {},
     "output_type": "execute_result"
    }
   ],
   "source": [
    "data['y'].value_counts(normalize=True)"
   ]
  },
  {
   "cell_type": "code",
   "execution_count": 34,
   "id": "df7b6c15",
   "metadata": {},
   "outputs": [
    {
     "data": {
      "text/plain": [
       "<Axes: >"
      ]
     },
     "execution_count": 34,
     "metadata": {},
     "output_type": "execute_result"
    },
    {
     "data": {
      "image/png": "[encoded data removed]",
      "text/plain": [
       "<Figure size 640x480 with 1 Axes>"
      ]
     },
     "metadata": {},
     "output_type": "display_data"
    }
   ],
   "source": [
    "data['y'].value_counts().plot(kind='bar')"
   ]
  },
  {
   "cell_type": "markdown",
   "id": "fa66fd60",
   "metadata": {},
   "source": [
    "## Data Visualization: Distributions and Relationships"
   ]
  },
  {
   "cell_type": "code",
   "execution_count": 35,
   "id": "9b54fbfc",
   "metadata": {
    "scrolled": false
   },
   "outputs": [
    {
     "data": {
      "image/png": "[encoded data removed]",
      "text/plain": [
       "<Figure size 1500x1500 with 6 Axes>"
      ]
     },
     "metadata": {},
     "output_type": "display_data"
    }
   ],
   "source": [
    "sns.set_style('whitegrid')\n",
    "fig, axes = plt.subplots(3, 2, figsize=(15, 15))\n",
    "\n",
    "# Distribution of Age\n",
    "sns.histplot(data=data, x='age', bins=30, kde=True, ax=axes[0, 0])\n",
    "axes[0, 0].set_title('Distribution of Age')\n",
    "\n",
    "# Distribution of Household Income\n",
    "sns.histplot(data=data, x='household_income', bins=30, kde=True, ax=axes[0, 1])\n",
    "axes[0, 1].set_title('Distribution of Household Income')\n",
    "\n",
    "# Debt to Income Ratio vs. Default\n",
    "sns.boxplot(data=data, x='y', y='debt_to_income_ratio', ax=axes[1, 0])\n",
    "axes[1, 0].set_title('Debt to Income Ratio vs. Default')\n",
    "\n",
    "# Credit Card Debt vs. Default\n",
    "sns.boxplot(data=data, x='y', y='credit_card_debt', ax=axes[1, 1])\n",
    "axes[1, 1].set_title('Credit Card Debt vs. Default')\n",
    "\n",
    "# Other Debt vs. Default\n",
    "sns.boxplot(data=data, x='y', y='other_debt', ax=axes[2, 0])\n",
    "axes[2, 0].set_title('Other Debt vs. Default')\n",
    "\n",
    "# Education Level Counts\n",
    "sns.countplot(data=data, x='education', ax=axes[2, 1], order=data['education'].value_counts().index)\n",
    "axes[2, 1].set_title('Education Level Counts')\n",
    "axes[2, 1].tick_params(axis='x', rotation=45)\n",
    "\n",
    "plt.show()"
   ]
  },
  {
   "cell_type": "code",
   "execution_count": 36,
   "id": "3c4efcde",
   "metadata": {},
   "outputs": [],
   "source": [
    "# data = pd.get_dummies(data, columns=['education']).drop('loan_applicant_id', axis=1)"
   ]
  },
  {
   "cell_type": "markdown",
   "id": "4d8966ab",
   "metadata": {},
   "source": [
    "# Feature Engineering and Pipeline"
   ]
  },
  {
   "cell_type": "code",
   "execution_count": 37,
   "id": "1c1c0a40",
   "metadata": {},
   "outputs": [],
   "source": [
    "# Feature Engineering\n",
    "categorical_features = ['education']\n",
    "numerical_features = ['age', 'years_with_current_employer', 'years_at_current_address', 'household_income', 'debt_to_income_ratio', 'credit_card_debt', 'other_debt']\n",
    "\n",
    "# Pipeline for numerical features\n",
    "num_pipeline = Pipeline([\n",
    "    ('imputer', SimpleImputer(strategy='mean')),\n",
    "    ('scaler', StandardScaler())\n",
    "])\n",
    "\n",
    "# Pipeline for categorical features\n",
    "cat_pipeline = Pipeline([\n",
    "    ('imputer', SimpleImputer(strategy='most_frequent')),\n",
    "    ('onehot', OneHotEncoder(handle_unknown='ignore'))\n",
    "])\n",
    "\n",
    "# Combine pipelines into a single preprocessor\n",
    "preprocessor = ColumnTransformer(\n",
    "        transformers=[\n",
    "            ('num', num_pipeline, numerical_features),\n",
    "            ('cat', cat_pipeline, categorical_features)\n",
    "        ]\n",
    ")"
   ]
  },
  {
   "cell_type": "markdown",
   "id": "f47071bc",
   "metadata": {},
   "source": [
    "# Split data"
   ]
  },
  {
   "cell_type": "code",
   "execution_count": 39,
   "id": "37f1ff1c",
   "metadata": {},
   "outputs": [],
   "source": [
    "X = data.drop('y', axis=1)\n",
    "y = data['y']\n",
    "\n",
    "X_train, X_test, y_train, y_test = train_test_split(X, y, test_size=0.33, random_state=42)"
   ]
  },
  {
   "cell_type": "markdown",
   "id": "689c14dc",
   "metadata": {},
   "source": [
    "Get view of the transformed traing data."
   ]
  },
  {
   "cell_type": "code",
   "execution_count": 40,
   "id": "08b4fddf",
   "metadata": {},
   "outputs": [
    {
     "data": {
      "text/html": [
       "<div>\n",
       "<style scoped>\n",
       "    .dataframe tbody tr th:only-of-type {\n",
       "        vertical-align: middle;\n",
       "    }\n",
       "\n",
       "    .dataframe tbody tr th {\n",
       "        vertical-align: top;\n",
       "    }\n",
       "\n",
       "    .dataframe thead th {\n",
       "        text-align: right;\n",
       "    }\n",
       "</style>\n",
       "<table border=\"1\" class=\"dataframe\">\n",
       "  <thead>\n",
       "    <tr style=\"text-align: right;\">\n",
       "      <th></th>\n",
       "      <th>num__age</th>\n",
       "      <th>num__years_with_current_employer</th>\n",
       "      <th>num__years_at_current_address</th>\n",
       "      <th>num__household_income</th>\n",
       "      <th>num__debt_to_income_ratio</th>\n",
       "      <th>num__credit_card_debt</th>\n",
       "      <th>num__other_debt</th>\n",
       "      <th>cat__education_basic</th>\n",
       "      <th>cat__education_high.school</th>\n",
       "      <th>cat__education_illiterate</th>\n",
       "      <th>cat__education_professional.course</th>\n",
       "      <th>cat__education_university.degree</th>\n",
       "    </tr>\n",
       "  </thead>\n",
       "  <tbody>\n",
       "    <tr>\n",
       "      <th>0</th>\n",
       "      <td>-0.754111</td>\n",
       "      <td>-1.663237</td>\n",
       "      <td>0.394861</td>\n",
       "      <td>0.246502</td>\n",
       "      <td>-0.640742</td>\n",
       "      <td>-0.753524</td>\n",
       "      <td>0.169256</td>\n",
       "      <td>0.0</td>\n",
       "      <td>0.0</td>\n",
       "      <td>0.0</td>\n",
       "      <td>0.0</td>\n",
       "      <td>1.0</td>\n",
       "    </tr>\n",
       "    <tr>\n",
       "      <th>1</th>\n",
       "      <td>-1.319146</td>\n",
       "      <td>-1.663237</td>\n",
       "      <td>-1.239912</td>\n",
       "      <td>1.008339</td>\n",
       "      <td>-0.674405</td>\n",
       "      <td>-0.740939</td>\n",
       "      <td>0.549315</td>\n",
       "      <td>0.0</td>\n",
       "      <td>0.0</td>\n",
       "      <td>0.0</td>\n",
       "      <td>0.0</td>\n",
       "      <td>1.0</td>\n",
       "    </tr>\n",
       "    <tr>\n",
       "      <th>2</th>\n",
       "      <td>0.281787</td>\n",
       "      <td>-1.295124</td>\n",
       "      <td>1.484710</td>\n",
       "      <td>0.479968</td>\n",
       "      <td>1.554284</td>\n",
       "      <td>1.112121</td>\n",
       "      <td>1.190777</td>\n",
       "      <td>1.0</td>\n",
       "      <td>0.0</td>\n",
       "      <td>0.0</td>\n",
       "      <td>0.0</td>\n",
       "      <td>0.0</td>\n",
       "    </tr>\n",
       "    <tr>\n",
       "      <th>3</th>\n",
       "      <td>-0.094903</td>\n",
       "      <td>-1.172419</td>\n",
       "      <td>-0.368033</td>\n",
       "      <td>1.118929</td>\n",
       "      <td>1.139912</td>\n",
       "      <td>2.255132</td>\n",
       "      <td>0.702834</td>\n",
       "      <td>0.0</td>\n",
       "      <td>0.0</td>\n",
       "      <td>0.0</td>\n",
       "      <td>1.0</td>\n",
       "      <td>0.0</td>\n",
       "    </tr>\n",
       "    <tr>\n",
       "      <th>4</th>\n",
       "      <td>-0.000730</td>\n",
       "      <td>-1.172419</td>\n",
       "      <td>0.067907</td>\n",
       "      <td>-0.048403</td>\n",
       "      <td>-0.356678</td>\n",
       "      <td>-0.057138</td>\n",
       "      <td>-0.348717</td>\n",
       "      <td>0.0</td>\n",
       "      <td>0.0</td>\n",
       "      <td>0.0</td>\n",
       "      <td>1.0</td>\n",
       "      <td>0.0</td>\n",
       "    </tr>\n",
       "  </tbody>\n",
       "</table>\n",
       "</div>"
      ],
      "text/plain": [
       "   num__age  num__years_with_current_employer  num__years_at_current_address  \\\n",
       "0 -0.754111                         -1.663237                       0.394861   \n",
       "1 -1.319146                         -1.663237                      -1.239912   \n",
       "2  0.281787                         -1.295124                       1.484710   \n",
       "3 -0.094903                         -1.172419                      -0.368033   \n",
       "4 -0.000730                         -1.172419                       0.067907   \n",
       "\n",
       "   num__household_income  num__debt_to_income_ratio  num__credit_card_debt  \\\n",
       "0               0.246502                  -0.640742              -0.753524   \n",
       "1               1.008339                  -0.674405              -0.740939   \n",
       "2               0.479968                   1.554284               1.112121   \n",
       "3               1.118929                   1.139912               2.255132   \n",
       "4              -0.048403                  -0.356678              -0.057138   \n",
       "\n",
       "   num__other_debt  cat__education_basic  cat__education_high.school  \\\n",
       "0         0.169256                   0.0                         0.0   \n",
       "1         0.549315                   0.0                         0.0   \n",
       "2         1.190777                   1.0                         0.0   \n",
       "3         0.702834                   0.0                         0.0   \n",
       "4        -0.348717                   0.0                         0.0   \n",
       "\n",
       "   cat__education_illiterate  cat__education_professional.course  \\\n",
       "0                        0.0                                 0.0   \n",
       "1                        0.0                                 0.0   \n",
       "2                        0.0                                 0.0   \n",
       "3                        0.0                                 1.0   \n",
       "4                        0.0                                 1.0   \n",
       "\n",
       "   cat__education_university.degree  \n",
       "0                               1.0  \n",
       "1                               1.0  \n",
       "2                               0.0  \n",
       "3                               0.0  \n",
       "4                               0.0  "
      ]
     },
     "execution_count": 40,
     "metadata": {},
     "output_type": "execute_result"
    }
   ],
   "source": [
    "pd.DataFrame(preprocessor.fit_transform(X_train), columns=preprocessor.get_feature_names_out()).head()"
   ]
  },
  {
   "cell_type": "markdown",
   "id": "637c15c5",
   "metadata": {},
   "source": [
    "Our processing pipeline functions well, we can now build and train the logistic regression model."
   ]
  },
  {
   "cell_type": "code",
   "execution_count": 41,
   "id": "2402b52d",
   "metadata": {},
   "outputs": [
    {
     "data": {
      "text/html": [
       "<style>#sk-container-id-1 {color: black;background-color: white;}#sk-container-id-1 pre{padding: 0;}#sk-container-id-1 div.sk-toggleable {background-color: white;}#sk-container-id-1 label.sk-toggleable__label {cursor: pointer;display: block;width: 100%;margin-bottom: 0;padding: 0.3em;box-sizing: border-box;text-align: center;}#sk-container-id-1 label.sk-toggleable__label-arrow:before {content: \"▸\";float: left;margin-right: 0.25em;color: #696969;}#sk-container-id-1 label.sk-toggleable__label-arrow:hover:before {color: black;}#sk-container-id-1 div.sk-estimator:hover label.sk-toggleable__label-arrow:before {color: black;}#sk-container-id-1 div.sk-toggleable__content {max-height: 0;max-width: 0;overflow: hidden;text-align: left;background-color: #f0f8ff;}#sk-container-id-1 div.sk-toggleable__content pre {margin: 0.2em;color: black;border-radius: 0.25em;background-color: #f0f8ff;}#sk-container-id-1 input.sk-toggleable__control:checked~div.sk-toggleable__content {max-height: 200px;max-width: 100%;overflow: auto;}#sk-container-id-1 input.sk-toggleable__control:checked~label.sk-toggleable__label-arrow:before {content: \"▾\";}#sk-container-id-1 div.sk-estimator input.sk-toggleable__control:checked~label.sk-toggleable__label {background-color: #d4ebff;}#sk-container-id-1 div.sk-label input.sk-toggleable__control:checked~label.sk-toggleable__label {background-color: #d4ebff;}#sk-container-id-1 input.sk-hidden--visually {border: 0;clip: rect(1px 1px 1px 1px);clip: rect(1px, 1px, 1px, 1px);height: 1px;margin: -1px;overflow: hidden;padding: 0;position: absolute;width: 1px;}#sk-container-id-1 div.sk-estimator {font-family: monospace;background-color: #f0f8ff;border: 1px dotted black;border-radius: 0.25em;box-sizing: border-box;margin-bottom: 0.5em;}#sk-container-id-1 div.sk-estimator:hover {background-color: #d4ebff;}#sk-container-id-1 div.sk-parallel-item::after {content: \"\";width: 100%;border-bottom: 1px solid gray;flex-grow: 1;}#sk-container-id-1 div.sk-label:hover label.sk-toggleable__label {background-color: #d4ebff;}#sk-container-id-1 div.sk-serial::before {content: \"\";position: absolute;border-left: 1px solid gray;box-sizing: border-box;top: 0;bottom: 0;left: 50%;z-index: 0;}#sk-container-id-1 div.sk-serial {display: flex;flex-direction: column;align-items: center;background-color: white;padding-right: 0.2em;padding-left: 0.2em;position: relative;}#sk-container-id-1 div.sk-item {position: relative;z-index: 1;}#sk-container-id-1 div.sk-parallel {display: flex;align-items: stretch;justify-content: center;background-color: white;position: relative;}#sk-container-id-1 div.sk-item::before, #sk-container-id-1 div.sk-parallel-item::before {content: \"\";position: absolute;border-left: 1px solid gray;box-sizing: border-box;top: 0;bottom: 0;left: 50%;z-index: -1;}#sk-container-id-1 div.sk-parallel-item {display: flex;flex-direction: column;z-index: 1;position: relative;background-color: white;}#sk-container-id-1 div.sk-parallel-item:first-child::after {align-self: flex-end;width: 50%;}#sk-container-id-1 div.sk-parallel-item:last-child::after {align-self: flex-start;width: 50%;}#sk-container-id-1 div.sk-parallel-item:only-child::after {width: 0;}#sk-container-id-1 div.sk-dashed-wrapped {border: 1px dashed gray;margin: 0 0.4em 0.5em 0.4em;box-sizing: border-box;padding-bottom: 0.4em;background-color: white;}#sk-container-id-1 div.sk-label label {font-family: monospace;font-weight: bold;display: inline-block;line-height: 1.2em;}#sk-container-id-1 div.sk-label-container {text-align: center;}#sk-container-id-1 div.sk-container {/* jupyter's `normalize.less` sets `[hidden] { display: none; }` but bootstrap.min.css set `[hidden] { display: none !important; }` so we also need the `!important` here to be able to override the default hidden behavior on the sphinx rendered scikit-learn.org. See: https://github.com/scikit-learn/scikit-learn/issues/21755 */display: inline-block !important;position: relative;}#sk-container-id-1 div.sk-text-repr-fallback {display: none;}</style><div id=\"sk-container-id-1\" class=\"sk-top-container\"><div class=\"sk-text-repr-fallback\"><pre>Pipeline(steps=[(&#x27;columntransformer&#x27;,\n",
       "                 ColumnTransformer(transformers=[(&#x27;num&#x27;,\n",
       "                                                  Pipeline(steps=[(&#x27;imputer&#x27;,\n",
       "                                                                   SimpleImputer()),\n",
       "                                                                  (&#x27;scaler&#x27;,\n",
       "                                                                   StandardScaler())]),\n",
       "                                                  [&#x27;age&#x27;,\n",
       "                                                   &#x27;years_with_current_employer&#x27;,\n",
       "                                                   &#x27;years_at_current_address&#x27;,\n",
       "                                                   &#x27;household_income&#x27;,\n",
       "                                                   &#x27;debt_to_income_ratio&#x27;,\n",
       "                                                   &#x27;credit_card_debt&#x27;,\n",
       "                                                   &#x27;other_debt&#x27;]),\n",
       "                                                 (&#x27;cat&#x27;,\n",
       "                                                  Pipeline(steps=[(&#x27;imputer&#x27;,\n",
       "                                                                   SimpleImputer(strategy=&#x27;most_frequent&#x27;)),\n",
       "                                                                  (&#x27;onehot&#x27;,\n",
       "                                                                   OneHotEncoder(handle_unknown=&#x27;ignore&#x27;))]),\n",
       "                                                  [&#x27;education&#x27;])])),\n",
       "                (&#x27;logisticregression&#x27;, LogisticRegression())])</pre><b>In a Jupyter environment, please rerun this cell to show the HTML representation or trust the notebook. <br />On GitHub, the HTML representation is unable to render, please try loading this page with nbviewer.org.</b></div><div class=\"sk-container\" hidden><div class=\"sk-item sk-dashed-wrapped\"><div class=\"sk-label-container\"><div class=\"sk-label sk-toggleable\"><input class=\"sk-toggleable__control sk-hidden--visually\" id=\"sk-estimator-id-1\" type=\"checkbox\" ><label for=\"sk-estimator-id-1\" class=\"sk-toggleable__label sk-toggleable__label-arrow\">Pipeline</label><div class=\"sk-toggleable__content\"><pre>Pipeline(steps=[(&#x27;columntransformer&#x27;,\n",
       "                 ColumnTransformer(transformers=[(&#x27;num&#x27;,\n",
       "                                                  Pipeline(steps=[(&#x27;imputer&#x27;,\n",
       "                                                                   SimpleImputer()),\n",
       "                                                                  (&#x27;scaler&#x27;,\n",
       "                                                                   StandardScaler())]),\n",
       "                                                  [&#x27;age&#x27;,\n",
       "                                                   &#x27;years_with_current_employer&#x27;,\n",
       "                                                   &#x27;years_at_current_address&#x27;,\n",
       "                                                   &#x27;household_income&#x27;,\n",
       "                                                   &#x27;debt_to_income_ratio&#x27;,\n",
       "                                                   &#x27;credit_card_debt&#x27;,\n",
       "                                                   &#x27;other_debt&#x27;]),\n",
       "                                                 (&#x27;cat&#x27;,\n",
       "                                                  Pipeline(steps=[(&#x27;imputer&#x27;,\n",
       "                                                                   SimpleImputer(strategy=&#x27;most_frequent&#x27;)),\n",
       "                                                                  (&#x27;onehot&#x27;,\n",
       "                                                                   OneHotEncoder(handle_unknown=&#x27;ignore&#x27;))]),\n",
       "                                                  [&#x27;education&#x27;])])),\n",
       "                (&#x27;logisticregression&#x27;, LogisticRegression())])</pre></div></div></div><div class=\"sk-serial\"><div class=\"sk-item sk-dashed-wrapped\"><div class=\"sk-label-container\"><div class=\"sk-label sk-toggleable\"><input class=\"sk-toggleable__control sk-hidden--visually\" id=\"sk-estimator-id-2\" type=\"checkbox\" ><label for=\"sk-estimator-id-2\" class=\"sk-toggleable__label sk-toggleable__label-arrow\">columntransformer: ColumnTransformer</label><div class=\"sk-toggleable__content\"><pre>ColumnTransformer(transformers=[(&#x27;num&#x27;,\n",
       "                                 Pipeline(steps=[(&#x27;imputer&#x27;, SimpleImputer()),\n",
       "                                                 (&#x27;scaler&#x27;, StandardScaler())]),\n",
       "                                 [&#x27;age&#x27;, &#x27;years_with_current_employer&#x27;,\n",
       "                                  &#x27;years_at_current_address&#x27;,\n",
       "                                  &#x27;household_income&#x27;, &#x27;debt_to_income_ratio&#x27;,\n",
       "                                  &#x27;credit_card_debt&#x27;, &#x27;other_debt&#x27;]),\n",
       "                                (&#x27;cat&#x27;,\n",
       "                                 Pipeline(steps=[(&#x27;imputer&#x27;,\n",
       "                                                  SimpleImputer(strategy=&#x27;most_frequent&#x27;)),\n",
       "                                                 (&#x27;onehot&#x27;,\n",
       "                                                  OneHotEncoder(handle_unknown=&#x27;ignore&#x27;))]),\n",
       "                                 [&#x27;education&#x27;])])</pre></div></div></div><div class=\"sk-parallel\"><div class=\"sk-parallel-item\"><div class=\"sk-item\"><div class=\"sk-label-container\"><div class=\"sk-label sk-toggleable\"><input class=\"sk-toggleable__control sk-hidden--visually\" id=\"sk-estimator-id-3\" type=\"checkbox\" ><label for=\"sk-estimator-id-3\" class=\"sk-toggleable__label sk-toggleable__label-arrow\">num</label><div class=\"sk-toggleable__content\"><pre>[&#x27;age&#x27;, &#x27;years_with_current_employer&#x27;, &#x27;years_at_current_address&#x27;, &#x27;household_income&#x27;, &#x27;debt_to_income_ratio&#x27;, &#x27;credit_card_debt&#x27;, &#x27;other_debt&#x27;]</pre></div></div></div><div class=\"sk-serial\"><div class=\"sk-item\"><div class=\"sk-serial\"><div class=\"sk-item\"><div class=\"sk-estimator sk-toggleable\"><input class=\"sk-toggleable__control sk-hidden--visually\" id=\"sk-estimator-id-4\" type=\"checkbox\" ><label for=\"sk-estimator-id-4\" class=\"sk-toggleable__label sk-toggleable__label-arrow\">SimpleImputer</label><div class=\"sk-toggleable__content\"><pre>SimpleImputer()</pre></div></div></div><div class=\"sk-item\"><div class=\"sk-estimator sk-toggleable\"><input class=\"sk-toggleable__control sk-hidden--visually\" id=\"sk-estimator-id-5\" type=\"checkbox\" ><label for=\"sk-estimator-id-5\" class=\"sk-toggleable__label sk-toggleable__label-arrow\">StandardScaler</label><div class=\"sk-toggleable__content\"><pre>StandardScaler()</pre></div></div></div></div></div></div></div></div><div class=\"sk-parallel-item\"><div class=\"sk-item\"><div class=\"sk-label-container\"><div class=\"sk-label sk-toggleable\"><input class=\"sk-toggleable__control sk-hidden--visually\" id=\"sk-estimator-id-6\" type=\"checkbox\" ><label for=\"sk-estimator-id-6\" class=\"sk-toggleable__label sk-toggleable__label-arrow\">cat</label><div class=\"sk-toggleable__content\"><pre>[&#x27;education&#x27;]</pre></div></div></div><div class=\"sk-serial\"><div class=\"sk-item\"><div class=\"sk-serial\"><div class=\"sk-item\"><div class=\"sk-estimator sk-toggleable\"><input class=\"sk-toggleable__control sk-hidden--visually\" id=\"sk-estimator-id-7\" type=\"checkbox\" ><label for=\"sk-estimator-id-7\" class=\"sk-toggleable__label sk-toggleable__label-arrow\">SimpleImputer</label><div class=\"sk-toggleable__content\"><pre>SimpleImputer(strategy=&#x27;most_frequent&#x27;)</pre></div></div></div><div class=\"sk-item\"><div class=\"sk-estimator sk-toggleable\"><input class=\"sk-toggleable__control sk-hidden--visually\" id=\"sk-estimator-id-8\" type=\"checkbox\" ><label for=\"sk-estimator-id-8\" class=\"sk-toggleable__label sk-toggleable__label-arrow\">OneHotEncoder</label><div class=\"sk-toggleable__content\"><pre>OneHotEncoder(handle_unknown=&#x27;ignore&#x27;)</pre></div></div></div></div></div></div></div></div></div></div><div class=\"sk-item\"><div class=\"sk-estimator sk-toggleable\"><input class=\"sk-toggleable__control sk-hidden--visually\" id=\"sk-estimator-id-9\" type=\"checkbox\" ><label for=\"sk-estimator-id-9\" class=\"sk-toggleable__label sk-toggleable__label-arrow\">LogisticRegression</label><div class=\"sk-toggleable__content\"><pre>LogisticRegression()</pre></div></div></div></div></div></div></div>"
      ],
      "text/plain": [
       "Pipeline(steps=[('columntransformer',\n",
       "                 ColumnTransformer(transformers=[('num',\n",
       "                                                  Pipeline(steps=[('imputer',\n",
       "                                                                   SimpleImputer()),\n",
       "                                                                  ('scaler',\n",
       "                                                                   StandardScaler())]),\n",
       "                                                  ['age',\n",
       "                                                   'years_with_current_employer',\n",
       "                                                   'years_at_current_address',\n",
       "                                                   'household_income',\n",
       "                                                   'debt_to_income_ratio',\n",
       "                                                   'credit_card_debt',\n",
       "                                                   'other_debt']),\n",
       "                                                 ('cat',\n",
       "                                                  Pipeline(steps=[('imputer',\n",
       "                                                                   SimpleImputer(strategy='most_frequent')),\n",
       "                                                                  ('onehot',\n",
       "                                                                   OneHotEncoder(handle_unknown='ignore'))]),\n",
       "                                                  ['education'])])),\n",
       "                ('logisticregression', LogisticRegression())])"
      ]
     },
     "execution_count": 41,
     "metadata": {},
     "output_type": "execute_result"
    }
   ],
   "source": [
    "clf_reg = make_pipeline(preprocessor, LogisticRegression())\n",
    "clf_reg.fit(X_train, y_train)"
   ]
  },
  {
   "cell_type": "markdown",
   "id": "573a744b",
   "metadata": {},
   "source": [
    "# Evaluate the model on both training data and validation data"
   ]
  },
  {
   "cell_type": "code",
   "execution_count": 42,
   "id": "d784214d",
   "metadata": {},
   "outputs": [],
   "source": [
    "def get_metrics(model, y_pred):\n",
    "    '''\n",
    "    output a dictionary containing the model's performance metrics\n",
    "    on the entire training set and of a 5-fold cross-validation\n",
    "    by inputting the model and the predicted labels on the train dataset\n",
    "    '''\n",
    "    metrics = {\n",
    "        'accuracy_train' : accuracy_score(y_train, y_pred),\n",
    "        'accuracy_valid' : cross_val_score(model, X_train, y_train, cv=5, n_jobs=-1, scoring='accuracy').mean(),\n",
    "        'precision_train' : precision_score(y_train, y_pred),\n",
    "        'precision_valid' : cross_val_score(model, X_train, y_train, cv=5, n_jobs=-1, scoring='precision').mean(),\n",
    "        'recall_train' : recall_score(y_train, y_pred),\n",
    "        'recall_valid' : cross_val_score(model, X_train, y_train, cv=5, n_jobs=-1, scoring='recall').mean(),\n",
    "        'f1_train' : f1_score(y_train, y_pred),\n",
    "        'f1_valid' : cross_val_score(model, X_train, y_train, cv=5, n_jobs=-1, scoring='f1').mean(),\n",
    "        'auc_train': roc_auc_score(y_train, y_pred),\n",
    "        'auc_valid': cross_val_score(model, X_train, y_train, cv=5, n_jobs=-1, scoring='roc_auc').mean(),\n",
    "    }\n",
    "    \n",
    "    return metrics"
   ]
  },
  {
   "cell_type": "code",
   "execution_count": 44,
   "id": "3beb0e38",
   "metadata": {},
   "outputs": [],
   "source": [
    "y_pred = clf_reg.predict(X_train)"
   ]
  },
  {
   "cell_type": "code",
   "execution_count": 47,
   "id": "81bd9360",
   "metadata": {},
   "outputs": [
    {
     "data": {
      "text/plain": [
       "{'accuracy_train': 0.9249864105816271,\n",
       " 'accuracy_valid': 0.9248414567856494,\n",
       " 'precision_train': 0.9881278538812786,\n",
       " 'precision_valid': 0.989899606110801,\n",
       " 'recall_train': 0.34469576298184135,\n",
       " 'recall_valid': 0.34277420534544234,\n",
       " 'f1_train': 0.5111006140765233,\n",
       " 'f1_valid': 0.5088093673411418,\n",
       " 'auc_train': 0.672082098043096,\n",
       " 'auc_valid': 0.7974878421695404}"
      ]
     },
     "execution_count": 47,
     "metadata": {},
     "output_type": "execute_result"
    }
   ],
   "source": [
    "get_metrics(clf_reg, y_pred)"
   ]
  },
  {
   "cell_type": "code",
   "execution_count": 49,
   "id": "3f90b4c8",
   "metadata": {},
   "outputs": [
    {
     "data": {
      "text/plain": [
       "array([[0.96272189, 0.03727811],\n",
       "       [0.89593905, 0.10406095],\n",
       "       [0.77475951, 0.22524049],\n",
       "       ...,\n",
       "       [0.96112178, 0.03887822],\n",
       "       [0.81271262, 0.18728738],\n",
       "       [0.95336928, 0.04663072]])"
      ]
     },
     "execution_count": 49,
     "metadata": {},
     "output_type": "execute_result"
    }
   ],
   "source": [
    "clf_reg.predict_proba(X_train)"
   ]
  },
  {
   "cell_type": "markdown",
   "id": "5009d7f8",
   "metadata": {},
   "source": [
    "Now we are confident to check the final model's performance on the test set ."
   ]
  },
  {
   "cell_type": "code",
   "execution_count": 51,
   "id": "881e8abc",
   "metadata": {},
   "outputs": [
    {
     "data": {
      "text/plain": [
       "{'accuracy_test': 0.9298903847568601,\n",
       " 'precision_test': 0.9945848375451264,\n",
       " 'recall_test': 0.3670886075949367,\n",
       " 'f1': 0.5362530413625305}"
      ]
     },
     "execution_count": 51,
     "metadata": {},
     "output_type": "execute_result"
    }
   ],
   "source": [
    "pred_test = clf_reg.predict(X_test)\n",
    "\n",
    "metrics_test = {\n",
    "    'accuracy_test': accuracy_score(y_test, pred_test),\n",
    "    'precision_test': precision_score(y_test, pred_test),\n",
    "    'recall_test': recall_score(y_test, pred_test),\n",
    "    'f1': f1_score(y_test, pred_test)\n",
    "}\n",
    "\n",
    "metrics_test"
   ]
  }
 ],
 "metadata": {
  "kernelspec": {
   "display_name": "Python 3 (ipykernel)",
   "language": "python",
   "name": "python3"
  },
  "language_info": {
   "codemirror_mode": {
    "name": "ipython",
    "version": 3
   },
   "file_extension": ".py",
   "mimetype": "text/x-python",
   "name": "python",
   "nbconvert_exporter": "python",
   "pygments_lexer": "ipython3",
   "version": "3.10.8"
  }
 },
 "nbformat": 4,
 "nbformat_minor": 5
}
